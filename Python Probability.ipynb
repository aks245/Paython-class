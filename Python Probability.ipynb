{
 "cells": [
  {
   "cell_type": "code",
   "execution_count": 1,
   "id": "50f32641",
   "metadata": {
    "ExecuteTime": {
     "end_time": "2022-12-06T05:09:59.941460Z",
     "start_time": "2022-12-06T05:09:58.394945Z"
    }
   },
   "outputs": [],
   "source": [
    "from scipy import stats"
   ]
  },
  {
   "cell_type": "markdown",
   "id": "277c1954",
   "metadata": {},
   "source": [
    "# Probability"
   ]
  },
  {
   "cell_type": "code",
   "execution_count": 18,
   "id": "8bfc16e3",
   "metadata": {
    "ExecuteTime": {
     "end_time": "2022-12-06T05:46:44.202018Z",
     "start_time": "2022-12-06T05:46:44.181233Z"
    }
   },
   "outputs": [
    {
     "data": {
      "text/plain": [
       "0.8413447460685429"
      ]
     },
     "execution_count": 18,
     "metadata": {},
     "output_type": "execute_result"
    }
   ],
   "source": [
    "#in scipy stats library it always calculate probabitlity of left side of random variable in curve.\n",
    "#to calculate right side prob do, 1-left side prob\n",
    "stats.norm.cdf(70,60,10)"
   ]
  },
  {
   "cell_type": "code",
   "execution_count": 3,
   "id": "90f26c07",
   "metadata": {
    "ExecuteTime": {
     "end_time": "2022-12-06T05:11:48.625188Z",
     "start_time": "2022-12-06T05:11:48.607904Z"
    }
   },
   "outputs": [
    {
     "data": {
      "text/plain": [
       "0.15865525393145707"
      ]
     },
     "execution_count": 3,
     "metadata": {},
     "output_type": "execute_result"
    }
   ],
   "source": [
    "1-stats.norm.cdf(70,60,10)"
   ]
  },
  {
   "cell_type": "code",
   "execution_count": 4,
   "id": "69414418",
   "metadata": {
    "ExecuteTime": {
     "end_time": "2022-12-06T05:15:01.288430Z",
     "start_time": "2022-12-06T05:15:01.268687Z"
    }
   },
   "outputs": [
    {
     "data": {
      "text/plain": [
       "72"
      ]
     },
     "execution_count": 4,
     "metadata": {},
     "output_type": "execute_result"
    }
   ],
   "source": [
    "8*9"
   ]
  },
  {
   "cell_type": "code",
   "execution_count": 14,
   "id": "098ce65c",
   "metadata": {
    "ExecuteTime": {
     "end_time": "2022-12-06T05:33:17.741069Z",
     "start_time": "2022-12-06T05:33:17.716669Z"
    }
   },
   "outputs": [
    {
     "data": {
      "text/plain": [
       "0.14254260383881612"
      ]
     },
     "execution_count": 14,
     "metadata": {},
     "output_type": "execute_result"
    }
   ],
   "source": [
    "#problem 1\n",
    "stats.norm.cdf(680,711,29)"
   ]
  },
  {
   "cell_type": "code",
   "execution_count": 9,
   "id": "f6abbf4c",
   "metadata": {
    "ExecuteTime": {
     "end_time": "2022-12-06T05:26:14.972776Z",
     "start_time": "2022-12-06T05:26:14.949817Z"
    }
   },
   "outputs": [
    {
     "data": {
      "text/plain": [
       "-1.0689655172413792"
      ]
     },
     "execution_count": 9,
     "metadata": {},
     "output_type": "execute_result"
    }
   ],
   "source": [
    "(680-711)/29\n",
    "#this is z score for above example from -1.06 look for value in z score table you will get probability"
   ]
  },
  {
   "cell_type": "code",
   "execution_count": 10,
   "id": "0f39ab97",
   "metadata": {
    "ExecuteTime": {
     "end_time": "2022-12-06T05:27:50.205553Z",
     "start_time": "2022-12-06T05:27:50.191531Z"
    }
   },
   "outputs": [],
   "source": [
    "#z score is used for feature scalling, outlayers detaction, probability "
   ]
  },
  {
   "cell_type": "code",
   "execution_count": 12,
   "id": "352a27a6",
   "metadata": {
    "ExecuteTime": {
     "end_time": "2022-12-06T05:31:44.829891Z",
     "start_time": "2022-12-06T05:31:44.814741Z"
    }
   },
   "outputs": [
    {
     "data": {
      "text/plain": [
       "0.5267111786415019"
      ]
     },
     "execution_count": 12,
     "metadata": {},
     "output_type": "execute_result"
    }
   ],
   "source": [
    "# problem 2\n",
    "(stats.norm.cdf(740,711,29))-(stats.norm.cdf(697,711,29))"
   ]
  },
  {
   "cell_type": "markdown",
   "id": "97a8df41",
   "metadata": {},
   "source": [
    "# Point percentage function"
   ]
  },
  {
   "cell_type": "code",
   "execution_count": 16,
   "id": "c6258200",
   "metadata": {
    "ExecuteTime": {
     "end_time": "2022-12-06T05:38:31.425651Z",
     "start_time": "2022-12-06T05:38:31.409624Z"
    }
   },
   "outputs": [
    {
     "data": {
      "text/plain": [
       "1.0364333894937898"
      ]
     },
     "execution_count": 16,
     "metadata": {},
     "output_type": "execute_result"
    }
   ],
   "source": [
    "stats.norm.ppf(0.85)"
   ]
  },
  {
   "cell_type": "code",
   "execution_count": 17,
   "id": "07a0d0cf",
   "metadata": {
    "ExecuteTime": {
     "end_time": "2022-12-06T05:40:27.721488Z",
     "start_time": "2022-12-06T05:40:27.709896Z"
    }
   },
   "outputs": [
    {
     "data": {
      "text/plain": [
       "741.05656829532"
      ]
     },
     "execution_count": 17,
     "metadata": {},
     "output_type": "execute_result"
    }
   ],
   "source": [
    "stats.norm.ppf(0.85,711,29)\n",
    "#with prob sd mean ppf will give value of random variable"
   ]
  },
  {
   "cell_type": "code",
   "execution_count": 28,
   "id": "17a6bb19",
   "metadata": {
    "ExecuteTime": {
     "end_time": "2022-12-06T05:55:59.262444Z",
     "start_time": "2022-12-06T05:55:59.238014Z"
    }
   },
   "outputs": [
    {
     "data": {
      "text/plain": [
       "0.8413447460685429"
      ]
     },
     "execution_count": 28,
     "metadata": {},
     "output_type": "execute_result"
    }
   ],
   "source": [
    "#problem 3\n",
    "#i\n",
    "stats.norm.cdf(150,120,30)"
   ]
  },
  {
   "cell_type": "code",
   "execution_count": 25,
   "id": "71d038b1",
   "metadata": {
    "ExecuteTime": {
     "end_time": "2022-12-06T05:49:57.687166Z",
     "start_time": "2022-12-06T05:49:57.667122Z"
    }
   },
   "outputs": [
    {
     "data": {
      "text/plain": [
       "0.003830380567589775"
      ]
     },
     "execution_count": 25,
     "metadata": {},
     "output_type": "execute_result"
    }
   ],
   "source": [
    "#ii\n",
    "1-stats.norm.cdf(200,120,30)"
   ]
  },
  {
   "cell_type": "code",
   "execution_count": 26,
   "id": "6177a77c",
   "metadata": {
    "ExecuteTime": {
     "end_time": "2022-12-06T05:50:44.393725Z",
     "start_time": "2022-12-06T05:50:44.380962Z"
    }
   },
   "outputs": [
    {
     "data": {
      "text/plain": [
       "0.58885220852162"
      ]
     },
     "execution_count": 26,
     "metadata": {},
     "output_type": "execute_result"
    }
   ],
   "source": [
    "#iii\n",
    "stats.norm.cdf(150,120,30)-stats.norm.cdf(100,120,30)"
   ]
  },
  {
   "cell_type": "code",
   "execution_count": 27,
   "id": "12d747ad",
   "metadata": {
    "ExecuteTime": {
     "end_time": "2022-12-06T05:52:11.706359Z",
     "start_time": "2022-12-06T05:52:11.683488Z"
    }
   },
   "outputs": [
    {
     "data": {
      "text/plain": [
       "1.0"
      ]
     },
     "execution_count": 27,
     "metadata": {},
     "output_type": "execute_result"
    }
   ],
   "source": [
    "#with z score method.\n",
    "(150-120)/30\n",
    "#look for this value in positive z score table it will give value of probability"
   ]
  },
  {
   "cell_type": "code",
   "execution_count": 30,
   "id": "486077ab",
   "metadata": {
    "ExecuteTime": {
     "end_time": "2022-12-06T05:58:36.321661Z",
     "start_time": "2022-12-06T05:58:36.297769Z"
    }
   },
   "outputs": [
    {
     "data": {
      "text/plain": [
       "0.0"
      ]
     },
     "execution_count": 30,
     "metadata": {},
     "output_type": "execute_result"
    }
   ],
   "source": [
    "#iv\n",
    "#x=115\n",
    "stats.norm.cdf(115,120,30)-stats.norm.cdf(114.999999999999999,120,30)\n",
    "#prob for specific number is zero"
   ]
  },
  {
   "cell_type": "code",
   "execution_count": 31,
   "id": "f8d2deed",
   "metadata": {
    "ExecuteTime": {
     "end_time": "2022-12-06T06:12:32.443762Z",
     "start_time": "2022-12-06T06:12:32.419673Z"
    }
   },
   "outputs": [
    {
     "data": {
      "text/plain": [
       "0.022750131948179195"
      ]
     },
     "execution_count": 31,
     "metadata": {},
     "output_type": "execute_result"
    }
   ],
   "source": [
    "#problem 4 Avg weight of a child in US is 70 pounds with sd 10\n",
    "#i\n",
    "stats.norm.cdf(50,70,10)"
   ]
  },
  {
   "cell_type": "code",
   "execution_count": 32,
   "id": "ae77a355",
   "metadata": {
    "ExecuteTime": {
     "end_time": "2022-12-06T06:13:03.918407Z",
     "start_time": "2022-12-06T06:13:03.902235Z"
    }
   },
   "outputs": [
    {
     "data": {
      "text/plain": [
       "-2.0"
      ]
     },
     "execution_count": 32,
     "metadata": {},
     "output_type": "execute_result"
    }
   ],
   "source": [
    "#with z score method\n",
    "(50-70)/10"
   ]
  },
  {
   "cell_type": "code",
   "execution_count": 33,
   "id": "f81a9e2c",
   "metadata": {
    "ExecuteTime": {
     "end_time": "2022-12-06T06:13:48.638277Z",
     "start_time": "2022-12-06T06:13:48.626789Z"
    }
   },
   "outputs": [
    {
     "data": {
      "text/plain": [
       "0.022750131948179195"
      ]
     },
     "execution_count": 33,
     "metadata": {},
     "output_type": "execute_result"
    }
   ],
   "source": [
    "stats.norm.cdf(-2.0)"
   ]
  },
  {
   "cell_type": "code",
   "execution_count": 34,
   "id": "3cb79cf3",
   "metadata": {
    "ExecuteTime": {
     "end_time": "2022-12-06T06:16:33.971101Z",
     "start_time": "2022-12-06T06:16:33.946831Z"
    }
   },
   "outputs": [
    {
     "data": {
      "text/plain": [
       "0.9544997361036416"
      ]
     },
     "execution_count": 34,
     "metadata": {},
     "output_type": "execute_result"
    }
   ],
   "source": [
    "#ii\n",
    "stats.norm.cdf(90,70,10)-stats.norm.cdf((50-70)/10)\n",
    "#second value is taken by z score methode"
   ]
  },
  {
   "cell_type": "code",
   "execution_count": 36,
   "id": "7264ce19",
   "metadata": {
    "ExecuteTime": {
     "end_time": "2022-12-06T06:18:33.927687Z",
     "start_time": "2022-12-06T06:18:33.916719Z"
    }
   },
   "outputs": [
    {
     "data": {
      "text/plain": [
       "0.0013498980316301035"
      ]
     },
     "execution_count": 36,
     "metadata": {},
     "output_type": "execute_result"
    }
   ],
   "source": [
    "#iii\n",
    "1-stats.norm.cdf((100-70)/10)"
   ]
  },
  {
   "cell_type": "code",
   "execution_count": null,
   "id": "fe898a9d",
   "metadata": {},
   "outputs": [],
   "source": []
  }
 ],
 "metadata": {
  "kernelspec": {
   "display_name": "Python 3 (ipykernel)",
   "language": "python",
   "name": "python3"
  },
  "language_info": {
   "codemirror_mode": {
    "name": "ipython",
    "version": 3
   },
   "file_extension": ".py",
   "mimetype": "text/x-python",
   "name": "python",
   "nbconvert_exporter": "python",
   "pygments_lexer": "ipython3",
   "version": "3.9.13"
  }
 },
 "nbformat": 4,
 "nbformat_minor": 5
}
