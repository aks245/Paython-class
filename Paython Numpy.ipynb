{
 "cells": [
  {
   "cell_type": "markdown",
   "id": "6efee7a2",
   "metadata": {
    "ExecuteTime": {
     "end_time": "2022-11-29T04:49:26.041077Z",
     "start_time": "2022-11-29T04:49:20.910756Z"
    }
   },
   "source": [
    "# Numpy\n",
    "!pip install numpy"
   ]
  },
  {
   "cell_type": "code",
   "execution_count": 3,
   "id": "9a7e6028",
   "metadata": {
    "ExecuteTime": {
     "end_time": "2022-11-29T04:49:55.474180Z",
     "start_time": "2022-11-29T04:49:55.208627Z"
    }
   },
   "outputs": [],
   "source": [
    "import numpy as np"
   ]
  },
  {
   "cell_type": "markdown",
   "id": "7ba4b72b",
   "metadata": {
    "ExecuteTime": {
     "end_time": "2022-11-29T04:52:42.443138Z",
     "start_time": "2022-11-29T04:52:42.417825Z"
    }
   },
   "source": [
    "# Array type & Dim\n",
    "a = np.array(18)\n",
    "type(a)"
   ]
  },
  {
   "cell_type": "code",
   "execution_count": 7,
   "id": "1be6be01",
   "metadata": {
    "ExecuteTime": {
     "end_time": "2022-11-29T04:56:10.704180Z",
     "start_time": "2022-11-29T04:56:10.690853Z"
    }
   },
   "outputs": [
    {
     "data": {
      "text/plain": [
       "0"
      ]
     },
     "execution_count": 7,
     "metadata": {},
     "output_type": "execute_result"
    }
   ],
   "source": [
    "#zero dimensional array\n",
    "b = np.array(10)\n",
    "b.ndim"
   ]
  },
  {
   "cell_type": "code",
   "execution_count": 8,
   "id": "d8dd9579",
   "metadata": {
    "ExecuteTime": {
     "end_time": "2022-11-29T04:56:59.224254Z",
     "start_time": "2022-11-29T04:56:59.204649Z"
    }
   },
   "outputs": [
    {
     "data": {
      "text/plain": [
       "1"
      ]
     },
     "execution_count": 8,
     "metadata": {},
     "output_type": "execute_result"
    }
   ],
   "source": [
    "#1D array\n",
    "c = np.array([10,20,30])\n",
    "c.ndim"
   ]
  },
  {
   "cell_type": "code",
   "execution_count": 35,
   "id": "b0f2803c",
   "metadata": {
    "ExecuteTime": {
     "end_time": "2022-11-29T05:50:09.789147Z",
     "start_time": "2022-11-29T05:50:09.767227Z"
    }
   },
   "outputs": [
    {
     "name": "stdout",
     "output_type": "stream",
     "text": [
      "2\n",
      "3\n"
     ]
    }
   ],
   "source": [
    "#2D array\n",
    "#By default it will run only last line only. to run all linees give print command\n",
    "d = np.array([[10,20,30]])\n",
    "print(d.ndim)\n",
    "e = np.array([[[1,2,3,4,5,6]]])\n",
    "print(e.ndim)"
   ]
  },
  {
   "cell_type": "markdown",
   "id": "f8f0dcf5",
   "metadata": {
    "ExecuteTime": {
     "end_time": "2022-11-29T05:27:05.317499Z",
     "start_time": "2022-11-29T05:27:05.306244Z"
    }
   },
   "source": [
    "# slicing\n",
    "a = np.array([[1,2,3],[4,5,6]])"
   ]
  },
  {
   "cell_type": "code",
   "execution_count": 12,
   "id": "963f0cc0",
   "metadata": {
    "ExecuteTime": {
     "end_time": "2022-11-29T05:24:17.916709Z",
     "start_time": "2022-11-29T05:24:17.887390Z"
    }
   },
   "outputs": [
    {
     "data": {
      "text/plain": [
       "array([[1, 2, 3],\n",
       "       [4, 5, 6]])"
      ]
     },
     "execution_count": 12,
     "metadata": {},
     "output_type": "execute_result"
    }
   ],
   "source": [
    "a"
   ]
  },
  {
   "cell_type": "code",
   "execution_count": 13,
   "id": "e499adec",
   "metadata": {
    "ExecuteTime": {
     "end_time": "2022-11-29T05:24:28.050353Z",
     "start_time": "2022-11-29T05:24:28.035074Z"
    }
   },
   "outputs": [
    {
     "data": {
      "text/plain": [
       "1"
      ]
     },
     "execution_count": 13,
     "metadata": {},
     "output_type": "execute_result"
    }
   ],
   "source": [
    "a[0,0]"
   ]
  },
  {
   "cell_type": "code",
   "execution_count": 14,
   "id": "b1655cc6",
   "metadata": {
    "ExecuteTime": {
     "end_time": "2022-11-29T05:24:48.759235Z",
     "start_time": "2022-11-29T05:24:48.740219Z"
    }
   },
   "outputs": [
    {
     "data": {
      "text/plain": [
       "array([2, 3])"
      ]
     },
     "execution_count": 14,
     "metadata": {},
     "output_type": "execute_result"
    }
   ],
   "source": [
    "a[0,1:]"
   ]
  },
  {
   "cell_type": "code",
   "execution_count": 15,
   "id": "9495c7e2",
   "metadata": {
    "ExecuteTime": {
     "end_time": "2022-11-29T05:25:12.736635Z",
     "start_time": "2022-11-29T05:25:12.707887Z"
    }
   },
   "outputs": [
    {
     "data": {
      "text/plain": [
       "array([[2, 3],\n",
       "       [5, 6]])"
      ]
     },
     "execution_count": 15,
     "metadata": {},
     "output_type": "execute_result"
    }
   ],
   "source": [
    "a[0:,1:]"
   ]
  },
  {
   "cell_type": "code",
   "execution_count": 19,
   "id": "9f3c1509",
   "metadata": {
    "ExecuteTime": {
     "end_time": "2022-11-29T05:27:14.675805Z",
     "start_time": "2022-11-29T05:27:14.655749Z"
    }
   },
   "outputs": [
    {
     "data": {
      "text/plain": [
       "5"
      ]
     },
     "execution_count": 19,
     "metadata": {},
     "output_type": "execute_result"
    }
   ],
   "source": [
    "a[1,1]"
   ]
  },
  {
   "cell_type": "code",
   "execution_count": 24,
   "id": "ba1b558e",
   "metadata": {
    "ExecuteTime": {
     "end_time": "2022-11-29T05:32:40.707647Z",
     "start_time": "2022-11-29T05:32:40.688851Z"
    }
   },
   "outputs": [
    {
     "data": {
      "text/plain": [
       "array([2, 6])"
      ]
     },
     "execution_count": 24,
     "metadata": {},
     "output_type": "execute_result"
    }
   ],
   "source": [
    "a[[0,1],[1,2]]"
   ]
  },
  {
   "cell_type": "code",
   "execution_count": 21,
   "id": "4c8d27db",
   "metadata": {
    "ExecuteTime": {
     "end_time": "2022-11-29T05:29:34.528641Z",
     "start_time": "2022-11-29T05:29:34.519267Z"
    }
   },
   "outputs": [
    {
     "data": {
      "text/plain": [
       "2"
      ]
     },
     "execution_count": 21,
     "metadata": {},
     "output_type": "execute_result"
    }
   ],
   "source": [
    "a[0,1]"
   ]
  },
  {
   "cell_type": "code",
   "execution_count": 30,
   "id": "4e74efc2",
   "metadata": {
    "ExecuteTime": {
     "end_time": "2022-11-29T05:45:08.348241Z",
     "start_time": "2022-11-29T05:45:08.325988Z"
    }
   },
   "outputs": [
    {
     "data": {
      "text/plain": [
       "array([1, 6])"
      ]
     },
     "execution_count": 30,
     "metadata": {},
     "output_type": "execute_result"
    }
   ],
   "source": [
    "a[[0,1],[0,2]]\n",
    "#while extracting randomly any values in 2D data first give row numbers and then in second bracket give colomun numbers"
   ]
  },
  {
   "cell_type": "code",
   "execution_count": 25,
   "id": "fd88104f",
   "metadata": {
    "ExecuteTime": {
     "end_time": "2022-11-29T05:35:59.161581Z",
     "start_time": "2022-11-29T05:35:59.153000Z"
    }
   },
   "outputs": [
    {
     "data": {
      "text/plain": [
       "1"
      ]
     },
     "execution_count": 25,
     "metadata": {},
     "output_type": "execute_result"
    }
   ],
   "source": [
    "a[0,0]"
   ]
  },
  {
   "cell_type": "code",
   "execution_count": 26,
   "id": "ed923ab2",
   "metadata": {
    "ExecuteTime": {
     "end_time": "2022-11-29T05:36:22.831627Z",
     "start_time": "2022-11-29T05:36:22.816218Z"
    }
   },
   "outputs": [
    {
     "data": {
      "text/plain": [
       "6"
      ]
     },
     "execution_count": 26,
     "metadata": {},
     "output_type": "execute_result"
    }
   ],
   "source": [
    "a[1,2]"
   ]
  },
  {
   "cell_type": "markdown",
   "id": "baf865b9",
   "metadata": {
    "ExecuteTime": {
     "end_time": "2022-11-29T05:52:34.718178Z",
     "start_time": "2022-11-29T05:52:34.698745Z"
    }
   },
   "source": [
    "# Putting array in differnt Data type\n",
    "a = np.array([10,23,43,15,77], dtype = 'float')\n",
    "print(a.dtype)\n",
    "a"
   ]
  },
  {
   "cell_type": "code",
   "execution_count": 40,
   "id": "6a2d7599",
   "metadata": {
    "ExecuteTime": {
     "end_time": "2022-11-29T05:55:21.008015Z",
     "start_time": "2022-11-29T05:55:20.982280Z"
    }
   },
   "outputs": [
    {
     "data": {
      "text/plain": [
       "array([1, 3, 5, 7, 9])"
      ]
     },
     "execution_count": 40,
     "metadata": {},
     "output_type": "execute_result"
    }
   ],
   "source": [
    "#other ways to create array\n",
    "#1 arrange. arranging 1 to 11 numbers with step 2\n",
    "a = np.arange(1,11,2)\n",
    "a"
   ]
  },
  {
   "cell_type": "code",
   "execution_count": 42,
   "id": "3216aa2b",
   "metadata": {
    "ExecuteTime": {
     "end_time": "2022-11-29T05:57:20.084008Z",
     "start_time": "2022-11-29T05:57:20.061854Z"
    }
   },
   "outputs": [
    {
     "data": {
      "text/plain": [
       "(array([1. , 1.8, 2.6, 3.4, 4.2, 5. ]), 0.8)"
      ]
     },
     "execution_count": 42,
     "metadata": {},
     "output_type": "execute_result"
    }
   ],
   "source": [
    "#2 linspace. it evenly disttribute numbers\n",
    "b = np.linspace(1,5,6,15, retstep=True)\n",
    "b"
   ]
  },
  {
   "cell_type": "code",
   "execution_count": 45,
   "id": "0dab8b0b",
   "metadata": {
    "ExecuteTime": {
     "end_time": "2022-11-29T06:00:16.175515Z",
     "start_time": "2022-11-29T06:00:16.166346Z"
    }
   },
   "outputs": [
    {
     "data": {
      "text/plain": [
       "array([[0.9288385 , 0.88748593, 0.67021738, 0.84667814, 0.02876812],\n",
       "       [0.22613768, 0.89820824, 0.1521905 , 0.24150229, 0.38139219],\n",
       "       [0.10819728, 0.02413508, 0.67902882, 0.86657408, 0.95014348],\n",
       "       [0.21761554, 0.11741859, 0.38098885, 0.65721446, 0.13052125],\n",
       "       [0.9633643 , 0.33707779, 0.50325392, 0.03031167, 0.26614925]])"
      ]
     },
     "execution_count": 45,
     "metadata": {},
     "output_type": "execute_result"
    }
   ],
   "source": [
    "#3 Random. to get random values in given structure\n",
    "d = np.random.rand(5,5)\n",
    "d"
   ]
  },
  {
   "cell_type": "code",
   "execution_count": 48,
   "id": "d3d90d19",
   "metadata": {
    "ExecuteTime": {
     "end_time": "2022-11-29T06:02:02.144697Z",
     "start_time": "2022-11-29T06:02:02.134733Z"
    }
   },
   "outputs": [
    {
     "data": {
      "text/plain": [
       "array([1, 4, 0, 0, 2, 2, 0, 3, 0, 4])"
      ]
     },
     "execution_count": 48,
     "metadata": {},
     "output_type": "execute_result"
    }
   ],
   "source": [
    "r = np.random.randint(5, size = 10)\n",
    "r\n",
    "#it exludes higest value we have given. here ut is 5"
   ]
  },
  {
   "cell_type": "code",
   "execution_count": 50,
   "id": "b493941d",
   "metadata": {
    "ExecuteTime": {
     "end_time": "2022-11-29T06:05:09.377527Z",
     "start_time": "2022-11-29T06:05:09.354570Z"
    }
   },
   "outputs": [
    {
     "data": {
      "text/plain": [
       "array([[1, 2, 3],\n",
       "       [4, 5, 6]])"
      ]
     },
     "execution_count": 50,
     "metadata": {},
     "output_type": "execute_result"
    }
   ],
   "source": [
    "# slicing and indexing of arrays\n",
    "a = np.array([[1,2,3],[4,5,6]])\n",
    "a"
   ]
  },
  {
   "cell_type": "markdown",
   "id": "2bc93e05",
   "metadata": {},
   "source": [
    "# reshaping"
   ]
  },
  {
   "cell_type": "code",
   "execution_count": 51,
   "id": "63ff5d51",
   "metadata": {
    "ExecuteTime": {
     "end_time": "2022-11-29T06:06:17.103931Z",
     "start_time": "2022-11-29T06:06:17.084372Z"
    }
   },
   "outputs": [
    {
     "data": {
      "text/plain": [
       "array([[1, 2, 3],\n",
       "       [4, 5, 6]])"
      ]
     },
     "execution_count": 51,
     "metadata": {},
     "output_type": "execute_result"
    }
   ],
   "source": [
    "a"
   ]
  },
  {
   "cell_type": "code",
   "execution_count": 52,
   "id": "20bf57ea",
   "metadata": {
    "ExecuteTime": {
     "end_time": "2022-11-29T06:08:10.858602Z",
     "start_time": "2022-11-29T06:08:10.840746Z"
    }
   },
   "outputs": [],
   "source": [
    "a = np.random.rand(5,2)"
   ]
  },
  {
   "cell_type": "code",
   "execution_count": 53,
   "id": "ad3d39e8",
   "metadata": {
    "ExecuteTime": {
     "end_time": "2022-11-29T06:08:14.548898Z",
     "start_time": "2022-11-29T06:08:14.532637Z"
    }
   },
   "outputs": [
    {
     "data": {
      "text/plain": [
       "array([[0.97436144, 0.35168807],\n",
       "       [0.88348364, 0.70961966],\n",
       "       [0.84750215, 0.73061987],\n",
       "       [0.19485536, 0.45085867],\n",
       "       [0.77297359, 0.10012754]])"
      ]
     },
     "execution_count": 53,
     "metadata": {},
     "output_type": "execute_result"
    }
   ],
   "source": [
    "a"
   ]
  },
  {
   "cell_type": "code",
   "execution_count": 54,
   "id": "7c98c33f",
   "metadata": {
    "ExecuteTime": {
     "end_time": "2022-11-29T06:09:27.624450Z",
     "start_time": "2022-11-29T06:09:27.603667Z"
    }
   },
   "outputs": [
    {
     "data": {
      "text/plain": [
       "array([[0.97436144, 0.35168807, 0.88348364, 0.70961966, 0.84750215],\n",
       "       [0.73061987, 0.19485536, 0.45085867, 0.77297359, 0.10012754]])"
      ]
     },
     "execution_count": 54,
     "metadata": {},
     "output_type": "execute_result"
    }
   ],
   "source": [
    "a.reshape(2,5)"
   ]
  },
  {
   "cell_type": "code",
   "execution_count": 56,
   "id": "125b4c37",
   "metadata": {
    "ExecuteTime": {
     "end_time": "2022-11-29T06:10:04.539105Z",
     "start_time": "2022-11-29T06:10:04.525827Z"
    }
   },
   "outputs": [
    {
     "data": {
      "text/plain": [
       "0.08386553815064261"
      ]
     },
     "execution_count": 56,
     "metadata": {},
     "output_type": "execute_result"
    }
   ],
   "source": [
    "a.var()\n",
    "#variance calculation"
   ]
  },
  {
   "cell_type": "code",
   "execution_count": 57,
   "id": "197e493a",
   "metadata": {
    "ExecuteTime": {
     "end_time": "2022-11-29T06:10:22.655752Z",
     "start_time": "2022-11-29T06:10:22.648886Z"
    }
   },
   "outputs": [
    {
     "data": {
      "text/plain": [
       "0.1001275374365167"
      ]
     },
     "execution_count": 57,
     "metadata": {},
     "output_type": "execute_result"
    }
   ],
   "source": [
    "a.min()\n",
    "#minimum value"
   ]
  },
  {
   "cell_type": "code",
   "execution_count": 58,
   "id": "075d309a",
   "metadata": {
    "ExecuteTime": {
     "end_time": "2022-11-29T06:11:05.973626Z",
     "start_time": "2022-11-29T06:11:05.956668Z"
    }
   },
   "outputs": [
    {
     "data": {
      "text/plain": [
       "0.601608998327716"
      ]
     },
     "execution_count": 58,
     "metadata": {},
     "output_type": "execute_result"
    }
   ],
   "source": [
    "a.mean()"
   ]
  },
  {
   "cell_type": "code",
   "execution_count": 59,
   "id": "7b810f60",
   "metadata": {
    "ExecuteTime": {
     "end_time": "2022-11-29T06:12:49.593868Z",
     "start_time": "2022-11-29T06:12:49.580792Z"
    }
   },
   "outputs": [
    {
     "data": {
      "text/plain": [
       "array([[0.97436144, 0.35168807],\n",
       "       [0.88348364, 0.70961966],\n",
       "       [0.84750215, 0.73061987],\n",
       "       [0.19485536, 0.45085867],\n",
       "       [0.77297359, 0.10012754]])"
      ]
     },
     "execution_count": 59,
     "metadata": {},
     "output_type": "execute_result"
    }
   ],
   "source": [
    "a.reshape(5,-1)\n",
    "#-1 will directly consider other number"
   ]
  },
  {
   "cell_type": "markdown",
   "id": "8e6fc4e1",
   "metadata": {},
   "source": [
    "# Aggregate Functions"
   ]
  },
  {
   "cell_type": "code",
   "execution_count": 60,
   "id": "3cef693f",
   "metadata": {
    "ExecuteTime": {
     "end_time": "2022-11-29T06:15:40.799029Z",
     "start_time": "2022-11-29T06:15:40.786617Z"
    }
   },
   "outputs": [
    {
     "data": {
      "text/plain": [
       "array([[0.97436144, 0.35168807],\n",
       "       [0.88348364, 0.70961966],\n",
       "       [0.84750215, 0.73061987],\n",
       "       [0.19485536, 0.45085867],\n",
       "       [0.77297359, 0.10012754]])"
      ]
     },
     "execution_count": 60,
     "metadata": {},
     "output_type": "execute_result"
    }
   ],
   "source": [
    "a"
   ]
  },
  {
   "cell_type": "code",
   "execution_count": 61,
   "id": "65825ffa",
   "metadata": {
    "ExecuteTime": {
     "end_time": "2022-11-29T06:15:48.632687Z",
     "start_time": "2022-11-29T06:15:48.625308Z"
    }
   },
   "outputs": [
    {
     "data": {
      "text/plain": [
       "0.1001275374365167"
      ]
     },
     "execution_count": 61,
     "metadata": {},
     "output_type": "execute_result"
    }
   ],
   "source": [
    "a.min()"
   ]
  },
  {
   "cell_type": "code",
   "execution_count": 62,
   "id": "f9628e5a",
   "metadata": {
    "ExecuteTime": {
     "end_time": "2022-11-29T06:15:58.507347Z",
     "start_time": "2022-11-29T06:15:58.496187Z"
    }
   },
   "outputs": [
    {
     "data": {
      "text/plain": [
       "0.28959547329100743"
      ]
     },
     "execution_count": 62,
     "metadata": {},
     "output_type": "execute_result"
    }
   ],
   "source": [
    "a.std()"
   ]
  },
  {
   "cell_type": "code",
   "execution_count": 63,
   "id": "d0bf435c",
   "metadata": {
    "ExecuteTime": {
     "end_time": "2022-11-29T06:16:13.932566Z",
     "start_time": "2022-11-29T06:16:13.911723Z"
    }
   },
   "outputs": [
    {
     "data": {
      "text/plain": [
       "0.08386553815064261"
      ]
     },
     "execution_count": 63,
     "metadata": {},
     "output_type": "execute_result"
    }
   ],
   "source": [
    "a.var()"
   ]
  },
  {
   "cell_type": "markdown",
   "id": "780ada8b",
   "metadata": {},
   "source": [
    "# Stacking"
   ]
  },
  {
   "cell_type": "code",
   "execution_count": 64,
   "id": "f56cbacc",
   "metadata": {
    "ExecuteTime": {
     "end_time": "2022-11-29T06:17:45.499178Z",
     "start_time": "2022-11-29T06:17:45.481870Z"
    }
   },
   "outputs": [],
   "source": [
    "a = np.array([1,2,3,4,56,6])\n",
    "b = np.array([9,8,7,6,5,89])"
   ]
  },
  {
   "cell_type": "code",
   "execution_count": 65,
   "id": "70a7f8f5",
   "metadata": {
    "ExecuteTime": {
     "end_time": "2022-11-29T06:18:09.057907Z",
     "start_time": "2022-11-29T06:18:09.041672Z"
    }
   },
   "outputs": [
    {
     "data": {
      "text/plain": [
       "array([ 1,  2,  3,  4, 56,  6,  9,  8,  7,  6,  5, 89])"
      ]
     },
     "execution_count": 65,
     "metadata": {},
     "output_type": "execute_result"
    }
   ],
   "source": [
    "np.hstack([a,b])"
   ]
  },
  {
   "cell_type": "code",
   "execution_count": 66,
   "id": "ff435fe1",
   "metadata": {
    "ExecuteTime": {
     "end_time": "2022-11-29T06:19:08.014089Z",
     "start_time": "2022-11-29T06:19:08.004050Z"
    }
   },
   "outputs": [
    {
     "data": {
      "text/plain": [
       "array([[ 1,  2,  3,  4, 56,  6],\n",
       "       [ 9,  8,  7,  6,  5, 89]])"
      ]
     },
     "execution_count": 66,
     "metadata": {},
     "output_type": "execute_result"
    }
   ],
   "source": [
    "np.vstack([a,b])"
   ]
  },
  {
   "cell_type": "code",
   "execution_count": null,
   "id": "89630026",
   "metadata": {},
   "outputs": [],
   "source": []
  }
 ],
 "metadata": {
  "kernelspec": {
   "display_name": "Python 3 (ipykernel)",
   "language": "python",
   "name": "python3"
  },
  "language_info": {
   "codemirror_mode": {
    "name": "ipython",
    "version": 3
   },
   "file_extension": ".py",
   "mimetype": "text/x-python",
   "name": "python",
   "nbconvert_exporter": "python",
   "pygments_lexer": "ipython3",
   "version": "3.9.13"
  }
 },
 "nbformat": 4,
 "nbformat_minor": 5
}
