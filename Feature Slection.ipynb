{
 "cells": [
  {
   "cell_type": "code",
   "execution_count": 2,
   "id": "d03ac550",
   "metadata": {
    "ExecuteTime": {
     "end_time": "2023-01-24T05:58:42.280758Z",
     "start_time": "2023-01-24T05:58:42.268356Z"
    }
   },
   "outputs": [],
   "source": [
    "import pandas as pd\n",
    "import numpy as np\n",
    "from sklearn.feature_selection import SelectKBest, chi2, RFE\n",
    "from sklearn.tree import DecisionTreeClassifier\n",
    "from sklearn.linear_model import LogisticRegression\n",
    "import warnings\n",
    "warnings.filterwarnings (\"ignore\")"
   ]
  },
  {
   "cell_type": "code",
   "execution_count": 6,
   "id": "c07deb47",
   "metadata": {
    "ExecuteTime": {
     "end_time": "2023-01-24T06:01:20.448352Z",
     "start_time": "2023-01-24T06:01:20.070878Z"
    }
   },
   "outputs": [],
   "source": [
    "df = pd.read_csv(\"https://raw.githubusercontent.com/aishwaryamate/Datasets/main/Pima.csv\", index_col=0)"
   ]
  },
  {
   "cell_type": "code",
   "execution_count": 7,
   "id": "cc47bfff",
   "metadata": {
    "ExecuteTime": {
     "end_time": "2023-01-24T06:01:22.702838Z",
     "start_time": "2023-01-24T06:01:22.678814Z"
    }
   },
   "outputs": [
    {
     "data": {
      "text/html": [
       "<div>\n",
       "<style scoped>\n",
       "    .dataframe tbody tr th:only-of-type {\n",
       "        vertical-align: middle;\n",
       "    }\n",
       "\n",
       "    .dataframe tbody tr th {\n",
       "        vertical-align: top;\n",
       "    }\n",
       "\n",
       "    .dataframe thead th {\n",
       "        text-align: right;\n",
       "    }\n",
       "</style>\n",
       "<table border=\"1\" class=\"dataframe\">\n",
       "  <thead>\n",
       "    <tr style=\"text-align: right;\">\n",
       "      <th></th>\n",
       "      <th>preg</th>\n",
       "      <th>plas</th>\n",
       "      <th>pres</th>\n",
       "      <th>skin</th>\n",
       "      <th>test</th>\n",
       "      <th>mass</th>\n",
       "      <th>pedi</th>\n",
       "      <th>age</th>\n",
       "      <th>class</th>\n",
       "    </tr>\n",
       "  </thead>\n",
       "  <tbody>\n",
       "    <tr>\n",
       "      <th>0</th>\n",
       "      <td>6</td>\n",
       "      <td>148</td>\n",
       "      <td>72</td>\n",
       "      <td>35</td>\n",
       "      <td>0</td>\n",
       "      <td>33.6</td>\n",
       "      <td>0.627</td>\n",
       "      <td>50</td>\n",
       "      <td>1</td>\n",
       "    </tr>\n",
       "    <tr>\n",
       "      <th>1</th>\n",
       "      <td>1</td>\n",
       "      <td>85</td>\n",
       "      <td>66</td>\n",
       "      <td>29</td>\n",
       "      <td>0</td>\n",
       "      <td>26.6</td>\n",
       "      <td>0.351</td>\n",
       "      <td>31</td>\n",
       "      <td>0</td>\n",
       "    </tr>\n",
       "    <tr>\n",
       "      <th>2</th>\n",
       "      <td>8</td>\n",
       "      <td>183</td>\n",
       "      <td>64</td>\n",
       "      <td>0</td>\n",
       "      <td>0</td>\n",
       "      <td>23.3</td>\n",
       "      <td>0.672</td>\n",
       "      <td>32</td>\n",
       "      <td>1</td>\n",
       "    </tr>\n",
       "    <tr>\n",
       "      <th>3</th>\n",
       "      <td>1</td>\n",
       "      <td>89</td>\n",
       "      <td>66</td>\n",
       "      <td>23</td>\n",
       "      <td>94</td>\n",
       "      <td>28.1</td>\n",
       "      <td>0.167</td>\n",
       "      <td>21</td>\n",
       "      <td>0</td>\n",
       "    </tr>\n",
       "    <tr>\n",
       "      <th>4</th>\n",
       "      <td>0</td>\n",
       "      <td>137</td>\n",
       "      <td>40</td>\n",
       "      <td>35</td>\n",
       "      <td>168</td>\n",
       "      <td>43.1</td>\n",
       "      <td>2.288</td>\n",
       "      <td>33</td>\n",
       "      <td>1</td>\n",
       "    </tr>\n",
       "  </tbody>\n",
       "</table>\n",
       "</div>"
      ],
      "text/plain": [
       "   preg  plas  pres  skin  test  mass   pedi  age  class\n",
       "0     6   148    72    35     0  33.6  0.627   50      1\n",
       "1     1    85    66    29     0  26.6  0.351   31      0\n",
       "2     8   183    64     0     0  23.3  0.672   32      1\n",
       "3     1    89    66    23    94  28.1  0.167   21      0\n",
       "4     0   137    40    35   168  43.1  2.288   33      1"
      ]
     },
     "execution_count": 7,
     "metadata": {},
     "output_type": "execute_result"
    }
   ],
   "source": [
    "df.head()"
   ]
  },
  {
   "cell_type": "code",
   "execution_count": 11,
   "id": "e20af0f9",
   "metadata": {
    "ExecuteTime": {
     "end_time": "2023-01-24T06:05:09.936698Z",
     "start_time": "2023-01-24T06:05:09.924537Z"
    }
   },
   "outputs": [],
   "source": [
    "x=df.iloc[:,:-1]\n",
    "y=df.iloc[:,-1]"
   ]
  },
  {
   "cell_type": "markdown",
   "id": "bf73500f",
   "metadata": {},
   "source": [
    "# KBest"
   ]
  },
  {
   "cell_type": "code",
   "execution_count": 12,
   "id": "50bda691",
   "metadata": {
    "ExecuteTime": {
     "end_time": "2023-01-24T06:06:15.438589Z",
     "start_time": "2023-01-24T06:06:14.558616Z"
    }
   },
   "outputs": [],
   "source": [
    "test = SelectKBest(score_func=chi2, k=5)\n",
    "chi = test.fit(x,y)"
   ]
  },
  {
   "cell_type": "code",
   "execution_count": 13,
   "id": "28ada2eb",
   "metadata": {
    "ExecuteTime": {
     "end_time": "2023-01-24T06:06:25.270566Z",
     "start_time": "2023-01-24T06:06:25.245255Z"
    }
   },
   "outputs": [
    {
     "data": {
      "text/plain": [
       "array([ 111.51969064, 1411.88704064,   17.60537322,   53.10803984,\n",
       "       2175.56527292,  127.66934333,    5.39268155,  181.30368904])"
      ]
     },
     "execution_count": 13,
     "metadata": {},
     "output_type": "execute_result"
    }
   ],
   "source": [
    "chi.scores_"
   ]
  },
  {
   "cell_type": "code",
   "execution_count": 14,
   "id": "d758be54",
   "metadata": {
    "ExecuteTime": {
     "end_time": "2023-01-24T06:06:31.433461Z",
     "start_time": "2023-01-24T06:06:31.420258Z"
    }
   },
   "outputs": [
    {
     "data": {
      "text/plain": [
       "Index(['preg', 'plas', 'pres', 'skin', 'test', 'mass', 'pedi', 'age'], dtype='object')"
      ]
     },
     "execution_count": 14,
     "metadata": {},
     "output_type": "execute_result"
    }
   ],
   "source": [
    "x.columns"
   ]
  },
  {
   "cell_type": "code",
   "execution_count": 15,
   "id": "b441f169",
   "metadata": {
    "ExecuteTime": {
     "end_time": "2023-01-24T06:07:40.361893Z",
     "start_time": "2023-01-24T06:07:40.337583Z"
    }
   },
   "outputs": [],
   "source": [
    "chidf=pd.DataFrame(chi.scores_).T\n",
    "chidf.columns= x.columns"
   ]
  },
  {
   "cell_type": "code",
   "execution_count": 16,
   "id": "c5dec34b",
   "metadata": {
    "ExecuteTime": {
     "end_time": "2023-01-24T06:07:44.891221Z",
     "start_time": "2023-01-24T06:07:44.854033Z"
    }
   },
   "outputs": [
    {
     "data": {
      "text/html": [
       "<div>\n",
       "<style scoped>\n",
       "    .dataframe tbody tr th:only-of-type {\n",
       "        vertical-align: middle;\n",
       "    }\n",
       "\n",
       "    .dataframe tbody tr th {\n",
       "        vertical-align: top;\n",
       "    }\n",
       "\n",
       "    .dataframe thead th {\n",
       "        text-align: right;\n",
       "    }\n",
       "</style>\n",
       "<table border=\"1\" class=\"dataframe\">\n",
       "  <thead>\n",
       "    <tr style=\"text-align: right;\">\n",
       "      <th></th>\n",
       "      <th>preg</th>\n",
       "      <th>plas</th>\n",
       "      <th>pres</th>\n",
       "      <th>skin</th>\n",
       "      <th>test</th>\n",
       "      <th>mass</th>\n",
       "      <th>pedi</th>\n",
       "      <th>age</th>\n",
       "    </tr>\n",
       "  </thead>\n",
       "  <tbody>\n",
       "    <tr>\n",
       "      <th>0</th>\n",
       "      <td>111.519691</td>\n",
       "      <td>1411.887041</td>\n",
       "      <td>17.605373</td>\n",
       "      <td>53.10804</td>\n",
       "      <td>2175.565273</td>\n",
       "      <td>127.669343</td>\n",
       "      <td>5.392682</td>\n",
       "      <td>181.303689</td>\n",
       "    </tr>\n",
       "  </tbody>\n",
       "</table>\n",
       "</div>"
      ],
      "text/plain": [
       "         preg         plas       pres      skin         test        mass  \\\n",
       "0  111.519691  1411.887041  17.605373  53.10804  2175.565273  127.669343   \n",
       "\n",
       "       pedi         age  \n",
       "0  5.392682  181.303689  "
      ]
     },
     "execution_count": 16,
     "metadata": {},
     "output_type": "execute_result"
    }
   ],
   "source": [
    "chidf"
   ]
  },
  {
   "cell_type": "markdown",
   "id": "6cbd32e8",
   "metadata": {},
   "source": [
    "# RFE"
   ]
  },
  {
   "cell_type": "code",
   "execution_count": 17,
   "id": "975e59fd",
   "metadata": {
    "ExecuteTime": {
     "end_time": "2023-01-24T06:11:59.839647Z",
     "start_time": "2023-01-24T06:11:59.675934Z"
    }
   },
   "outputs": [
    {
     "data": {
      "text/plain": [
       "RFE(estimator=LogisticRegression(), n_features_to_select=5)"
      ]
     },
     "execution_count": 17,
     "metadata": {},
     "output_type": "execute_result"
    }
   ],
   "source": [
    "lg= LogisticRegression()\n",
    "rfe = RFE(lg, n_features_to_select=5)\n",
    "rfe.fit(x,y)"
   ]
  },
  {
   "cell_type": "code",
   "execution_count": 18,
   "id": "23f11451",
   "metadata": {
    "ExecuteTime": {
     "end_time": "2023-01-24T06:12:14.300718Z",
     "start_time": "2023-01-24T06:12:14.292453Z"
    }
   },
   "outputs": [],
   "source": [
    "#5 is taken randomly"
   ]
  },
  {
   "cell_type": "code",
   "execution_count": 19,
   "id": "f6116746",
   "metadata": {
    "ExecuteTime": {
     "end_time": "2023-01-24T06:12:45.962318Z",
     "start_time": "2023-01-24T06:12:45.935776Z"
    }
   },
   "outputs": [
    {
     "data": {
      "text/plain": [
       "array([1, 1, 2, 3, 4, 1, 1, 1])"
      ]
     },
     "execution_count": 19,
     "metadata": {},
     "output_type": "execute_result"
    }
   ],
   "source": [
    "rfe.ranking_"
   ]
  },
  {
   "cell_type": "code",
   "execution_count": 21,
   "id": "57536630",
   "metadata": {
    "ExecuteTime": {
     "end_time": "2023-01-24T06:13:01.530539Z",
     "start_time": "2023-01-24T06:13:01.515123Z"
    }
   },
   "outputs": [
    {
     "data": {
      "text/plain": [
       "array([ True,  True, False, False, False,  True,  True,  True])"
      ]
     },
     "execution_count": 21,
     "metadata": {},
     "output_type": "execute_result"
    }
   ],
   "source": [
    "rfe.support_"
   ]
  },
  {
   "cell_type": "code",
   "execution_count": 22,
   "id": "b6646251",
   "metadata": {
    "ExecuteTime": {
     "end_time": "2023-01-24T06:14:30.595100Z",
     "start_time": "2023-01-24T06:14:30.564815Z"
    }
   },
   "outputs": [
    {
     "data": {
      "text/html": [
       "<div>\n",
       "<style scoped>\n",
       "    .dataframe tbody tr th:only-of-type {\n",
       "        vertical-align: middle;\n",
       "    }\n",
       "\n",
       "    .dataframe tbody tr th {\n",
       "        vertical-align: top;\n",
       "    }\n",
       "\n",
       "    .dataframe thead th {\n",
       "        text-align: right;\n",
       "    }\n",
       "</style>\n",
       "<table border=\"1\" class=\"dataframe\">\n",
       "  <thead>\n",
       "    <tr style=\"text-align: right;\">\n",
       "      <th></th>\n",
       "      <th>preg</th>\n",
       "      <th>plas</th>\n",
       "      <th>pres</th>\n",
       "      <th>skin</th>\n",
       "      <th>test</th>\n",
       "      <th>mass</th>\n",
       "      <th>pedi</th>\n",
       "      <th>age</th>\n",
       "    </tr>\n",
       "  </thead>\n",
       "  <tbody>\n",
       "    <tr>\n",
       "      <th>0</th>\n",
       "      <td>1</td>\n",
       "      <td>1</td>\n",
       "      <td>2</td>\n",
       "      <td>3</td>\n",
       "      <td>4</td>\n",
       "      <td>1</td>\n",
       "      <td>1</td>\n",
       "      <td>1</td>\n",
       "    </tr>\n",
       "  </tbody>\n",
       "</table>\n",
       "</div>"
      ],
      "text/plain": [
       "   preg  plas  pres  skin  test  mass  pedi  age\n",
       "0     1     1     2     3     4     1     1    1"
      ]
     },
     "execution_count": 22,
     "metadata": {},
     "output_type": "execute_result"
    }
   ],
   "source": [
    "rfe_df = pd.DataFrame(rfe.ranking_).T\n",
    "rfe_df.columns = x.columns\n",
    "rfe_df"
   ]
  },
  {
   "cell_type": "markdown",
   "id": "104877e8",
   "metadata": {},
   "source": [
    "# Tree Based Approach"
   ]
  },
  {
   "cell_type": "code",
   "execution_count": 23,
   "id": "900052b7",
   "metadata": {
    "ExecuteTime": {
     "end_time": "2023-01-24T06:15:16.659031Z",
     "start_time": "2023-01-24T06:15:16.639764Z"
    }
   },
   "outputs": [],
   "source": [
    "dt=DecisionTreeClassifier(criterion='entropy')"
   ]
  },
  {
   "cell_type": "code",
   "execution_count": 25,
   "id": "ab61b3d8",
   "metadata": {
    "ExecuteTime": {
     "end_time": "2023-01-24T06:15:33.166542Z",
     "start_time": "2023-01-24T06:15:33.115743Z"
    }
   },
   "outputs": [
    {
     "data": {
      "text/plain": [
       "DecisionTreeClassifier(criterion='entropy')"
      ]
     },
     "execution_count": 25,
     "metadata": {},
     "output_type": "execute_result"
    }
   ],
   "source": [
    "dt.fit(x,y)"
   ]
  },
  {
   "cell_type": "code",
   "execution_count": 26,
   "id": "c9a6f5f3",
   "metadata": {
    "ExecuteTime": {
     "end_time": "2023-01-24T06:17:18.153083Z",
     "start_time": "2023-01-24T06:17:18.120846Z"
    }
   },
   "outputs": [
    {
     "data": {
      "text/html": [
       "<div>\n",
       "<style scoped>\n",
       "    .dataframe tbody tr th:only-of-type {\n",
       "        vertical-align: middle;\n",
       "    }\n",
       "\n",
       "    .dataframe tbody tr th {\n",
       "        vertical-align: top;\n",
       "    }\n",
       "\n",
       "    .dataframe thead th {\n",
       "        text-align: right;\n",
       "    }\n",
       "</style>\n",
       "<table border=\"1\" class=\"dataframe\">\n",
       "  <thead>\n",
       "    <tr style=\"text-align: right;\">\n",
       "      <th></th>\n",
       "      <th>preg</th>\n",
       "      <th>plas</th>\n",
       "      <th>pres</th>\n",
       "      <th>skin</th>\n",
       "      <th>test</th>\n",
       "      <th>mass</th>\n",
       "      <th>pedi</th>\n",
       "      <th>age</th>\n",
       "    </tr>\n",
       "  </thead>\n",
       "  <tbody>\n",
       "    <tr>\n",
       "      <th>0</th>\n",
       "      <td>0.079509</td>\n",
       "      <td>0.253188</td>\n",
       "      <td>0.08241</td>\n",
       "      <td>0.030567</td>\n",
       "      <td>0.045401</td>\n",
       "      <td>0.252175</td>\n",
       "      <td>0.131637</td>\n",
       "      <td>0.125113</td>\n",
       "    </tr>\n",
       "  </tbody>\n",
       "</table>\n",
       "</div>"
      ],
      "text/plain": [
       "       preg      plas     pres      skin      test      mass      pedi  \\\n",
       "0  0.079509  0.253188  0.08241  0.030567  0.045401  0.252175  0.131637   \n",
       "\n",
       "        age  \n",
       "0  0.125113  "
      ]
     },
     "execution_count": 26,
     "metadata": {},
     "output_type": "execute_result"
    }
   ],
   "source": [
    "dt_df = pd.DataFrame(dt.feature_importances_).T\n",
    "dt_df.columns= x.columns\n",
    "dt_df"
   ]
  },
  {
   "cell_type": "markdown",
   "id": "a15b2744",
   "metadata": {},
   "source": [
    "- Univariate Selection:\n",
    "    - Test,Plasma,Age,Mass\n",
    "- RFE:\n",
    "    - preg,plasma,mass,pedi,age\n",
    "- Tree\n",
    "    - plasma,mass,pedi,age"
   ]
  },
  {
   "cell_type": "markdown",
   "id": "0490232d",
   "metadata": {},
   "source": [
    "# Cross Validation"
   ]
  },
  {
   "cell_type": "code",
   "execution_count": 34,
   "id": "2116062b",
   "metadata": {
    "ExecuteTime": {
     "end_time": "2023-01-24T06:25:27.441016Z",
     "start_time": "2023-01-24T06:25:27.426465Z"
    }
   },
   "outputs": [],
   "source": [
    "from sklearn.model_selection import KFold, LeaveOneOut, cross_val_score"
   ]
  },
  {
   "cell_type": "code",
   "execution_count": 29,
   "id": "b2f39279",
   "metadata": {
    "ExecuteTime": {
     "end_time": "2023-01-24T06:24:19.199162Z",
     "start_time": "2023-01-24T06:24:18.688056Z"
    }
   },
   "outputs": [],
   "source": [
    "kf = KFold(n_splits=10, random_state=1,shuffle=True)\n",
    "score= cross_val_score(LogisticRegression(),x,y,cv=kf)"
   ]
  },
  {
   "cell_type": "code",
   "execution_count": 30,
   "id": "0b4366b2",
   "metadata": {
    "ExecuteTime": {
     "end_time": "2023-01-24T06:24:37.099247Z",
     "start_time": "2023-01-24T06:24:37.078519Z"
    }
   },
   "outputs": [
    {
     "data": {
      "text/plain": [
       "0.7720608339029391"
      ]
     },
     "execution_count": 30,
     "metadata": {},
     "output_type": "execute_result"
    }
   ],
   "source": [
    "score.mean()"
   ]
  },
  {
   "cell_type": "code",
   "execution_count": 31,
   "id": "fc7863fe",
   "metadata": {
    "ExecuteTime": {
     "end_time": "2023-01-24T06:24:48.212839Z",
     "start_time": "2023-01-24T06:24:48.194911Z"
    }
   },
   "outputs": [],
   "source": [
    "#leav one out"
   ]
  },
  {
   "cell_type": "code",
   "execution_count": 32,
   "id": "7c6e5135",
   "metadata": {
    "ExecuteTime": {
     "end_time": "2023-01-24T06:24:55.873346Z",
     "start_time": "2023-01-24T06:24:55.864314Z"
    }
   },
   "outputs": [
    {
     "data": {
      "text/plain": [
       "(768, 9)"
      ]
     },
     "execution_count": 32,
     "metadata": {},
     "output_type": "execute_result"
    }
   ],
   "source": [
    "df.shape"
   ]
  },
  {
   "cell_type": "code",
   "execution_count": 35,
   "id": "5a11e233",
   "metadata": {
    "ExecuteTime": {
     "end_time": "2023-01-24T06:25:37.659433Z",
     "start_time": "2023-01-24T06:25:37.648869Z"
    }
   },
   "outputs": [],
   "source": [
    "le=LeaveOneOut()"
   ]
  },
  {
   "cell_type": "code",
   "execution_count": 37,
   "id": "dc0311f8",
   "metadata": {
    "ExecuteTime": {
     "end_time": "2023-01-24T06:27:26.105894Z",
     "start_time": "2023-01-24T06:27:05.097746Z"
    }
   },
   "outputs": [],
   "source": [
    "le_score= cross_val_score(LogisticRegression(),x,y,cv=le)"
   ]
  },
  {
   "cell_type": "code",
   "execution_count": 38,
   "id": "4e18e566",
   "metadata": {
    "ExecuteTime": {
     "end_time": "2023-01-24T06:27:26.137661Z",
     "start_time": "2023-01-24T06:27:26.109546Z"
    }
   },
   "outputs": [
    {
     "data": {
      "text/plain": [
       "array([1., 1., 1., 1., 1., 1., 0., 0., 1., 0., 1., 1., 0., 1., 1., 0., 0.,\n",
       "       0., 1., 0., 1., 1., 1., 0., 1., 0., 1., 1., 0., 1., 1., 1., 1., 1.,\n",
       "       1., 1., 0., 0., 0., 1., 0., 0., 1., 1., 0., 1., 1., 1., 0., 1., 1.,\n",
       "       1., 1., 1., 0., 1., 1., 1., 0., 1., 1., 0., 1., 1., 0., 1., 0., 0.,\n",
       "       1., 1., 0., 1., 1., 1., 1., 1., 1., 1., 1., 1., 1., 1., 1., 1., 1.,\n",
       "       1., 1., 1., 1., 1., 1., 1., 1., 0., 1., 1., 1., 1., 1., 0., 1., 1.,\n",
       "       1., 1., 1., 1., 1., 1., 1., 0., 1., 1., 1., 1., 1., 1., 0., 1., 1.,\n",
       "       1., 1., 1., 1., 1., 0., 0., 1., 1., 0., 0., 1., 1., 1., 1., 1., 1.,\n",
       "       1., 1., 1., 1., 1., 1., 1., 0., 1., 1., 1., 1., 0., 1., 1., 1., 1.,\n",
       "       0., 1., 1., 1., 1., 1., 1., 1., 1., 1., 1., 0., 0., 1., 1., 1., 1.,\n",
       "       0., 1., 1., 1., 1., 1., 1., 1., 0., 1., 1., 1., 1., 1., 1., 1., 1.,\n",
       "       0., 0., 0., 1., 1., 1., 1., 1., 1., 1., 0., 0., 0., 1., 1., 1., 1.,\n",
       "       1., 1., 1., 1., 1., 1., 1., 0., 0., 0., 0., 1., 0., 1., 0., 0., 1.,\n",
       "       1., 1., 0., 1., 1., 1., 1., 0., 1., 1., 1., 1., 1., 1., 1., 1., 1.,\n",
       "       1., 1., 1., 1., 0., 0., 1., 1., 1., 0., 1., 1., 1., 1., 1., 1., 0.,\n",
       "       0., 1., 1., 0., 1., 0., 1., 1., 0., 0., 1., 1., 0., 1., 1., 1., 1.,\n",
       "       1., 1., 1., 1., 0., 1., 1., 1., 0., 0., 1., 1., 0., 1., 0., 0., 1.,\n",
       "       1., 1., 0., 1., 0., 1., 0., 0., 1., 0., 1., 1., 0., 1., 1., 1., 1.,\n",
       "       1., 1., 0., 0., 1., 1., 0., 1., 1., 1., 1., 1., 1., 1., 1., 0., 0.,\n",
       "       1., 1., 1., 0., 0., 0., 1., 0., 1., 1., 1., 1., 0., 0., 0., 1., 1.,\n",
       "       1., 1., 1., 1., 1., 0., 1., 1., 1., 0., 1., 1., 1., 1., 1., 1., 0.,\n",
       "       1., 1., 1., 1., 0., 1., 1., 1., 1., 0., 1., 1., 0., 1., 1., 1., 1.,\n",
       "       1., 1., 1., 1., 1., 1., 1., 1., 1., 1., 1., 1., 0., 0., 1., 1., 1.,\n",
       "       1., 1., 1., 1., 1., 1., 0., 1., 1., 0., 1., 0., 1., 1., 0., 0., 1.,\n",
       "       1., 1., 1., 1., 0., 1., 0., 0., 1., 1., 1., 0., 1., 1., 1., 1., 1.,\n",
       "       1., 1., 1., 1., 0., 1., 1., 1., 1., 1., 1., 0., 1., 1., 1., 1., 1.,\n",
       "       1., 0., 0., 1., 1., 1., 0., 1., 1., 0., 1., 1., 1., 1., 1., 1., 1.,\n",
       "       1., 1., 1., 1., 1., 1., 1., 1., 1., 0., 0., 0., 1., 1., 1., 1., 1.,\n",
       "       0., 1., 1., 1., 1., 1., 1., 1., 1., 0., 1., 0., 1., 0., 1., 1., 1.,\n",
       "       1., 1., 0., 1., 1., 1., 0., 1., 1., 0., 1., 1., 1., 1., 1., 1., 1.,\n",
       "       0., 1., 1., 1., 1., 1., 1., 0., 1., 1., 1., 1., 1., 1., 1., 1., 1.,\n",
       "       1., 1., 1., 1., 1., 1., 1., 1., 1., 1., 1., 1., 0., 0., 0., 0., 1.,\n",
       "       1., 1., 1., 1., 0., 0., 1., 1., 1., 1., 1., 1., 1., 1., 0., 1., 0.,\n",
       "       1., 1., 1., 1., 1., 1., 1., 1., 0., 1., 1., 1., 1., 1., 1., 1., 0.,\n",
       "       1., 1., 1., 1., 1., 1., 0., 1., 1., 1., 1., 1., 1., 1., 0., 1., 1.,\n",
       "       1., 1., 1., 1., 1., 1., 1., 1., 1., 1., 1., 1., 1., 1., 1., 1., 1.,\n",
       "       1., 1., 1., 1., 1., 1., 1., 0., 1., 1., 0., 1., 1., 1., 1., 1., 1.,\n",
       "       1., 0., 1., 1., 1., 1., 0., 1., 1., 0., 1., 1., 1., 0., 1., 1., 1.,\n",
       "       0., 1., 0., 1., 1., 1., 1., 1., 1., 1., 1., 0., 0., 0., 0., 1., 1.,\n",
       "       1., 0., 1., 1., 0., 1., 0., 0., 1., 1., 0., 1., 1., 1., 1., 0., 1.,\n",
       "       1., 1., 1., 0., 1., 1., 1., 1., 1., 1., 1., 1., 1., 1., 1., 0., 1.,\n",
       "       1., 1., 0., 1., 0., 1., 0., 1., 1., 0., 1., 1., 0., 1., 1., 1., 1.,\n",
       "       1., 1., 1., 1., 1., 0., 1., 1., 0., 1., 1., 1., 1., 1., 1., 1., 0.,\n",
       "       0., 1., 1., 1., 1., 1., 1., 1., 0., 1., 1., 1., 1., 0., 1., 1., 1.,\n",
       "       1., 1., 1., 1., 1., 1., 1., 0., 1., 0., 1., 1., 1., 1., 1., 1., 1.,\n",
       "       1., 0., 1.])"
      ]
     },
     "execution_count": 38,
     "metadata": {},
     "output_type": "execute_result"
    }
   ],
   "source": [
    "le_score"
   ]
  },
  {
   "cell_type": "code",
   "execution_count": 39,
   "id": "25175343",
   "metadata": {
    "ExecuteTime": {
     "end_time": "2023-01-24T06:27:26.452472Z",
     "start_time": "2023-01-24T06:27:26.438235Z"
    }
   },
   "outputs": [
    {
     "data": {
      "text/plain": [
       "0.7786458333333334"
      ]
     },
     "execution_count": 39,
     "metadata": {},
     "output_type": "execute_result"
    }
   ],
   "source": [
    "le_score.mean()"
   ]
  },
  {
   "cell_type": "code",
   "execution_count": null,
   "id": "6c464198",
   "metadata": {},
   "outputs": [],
   "source": []
  }
 ],
 "metadata": {
  "kernelspec": {
   "display_name": "Python 3 (ipykernel)",
   "language": "python",
   "name": "python3"
  },
  "language_info": {
   "codemirror_mode": {
    "name": "ipython",
    "version": 3
   },
   "file_extension": ".py",
   "mimetype": "text/x-python",
   "name": "python",
   "nbconvert_exporter": "python",
   "pygments_lexer": "ipython3",
   "version": "3.9.13"
  }
 },
 "nbformat": 4,
 "nbformat_minor": 5
}
