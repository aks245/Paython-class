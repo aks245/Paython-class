{
 "cells": [
  {
   "cell_type": "code",
   "execution_count": 1,
   "id": "7baa67a5",
   "metadata": {
    "ExecuteTime": {
     "end_time": "2022-11-25T04:48:56.558905Z",
     "start_time": "2022-11-25T04:48:50.818273Z"
    }
   },
   "outputs": [
    {
     "name": "stdout",
     "output_type": "stream",
     "text": [
      "Requirement already satisfied: pandas in c:\\users\\akshay\\anaconda3\\lib\\site-packages (1.4.4)\n",
      "Requirement already satisfied: pytz>=2020.1 in c:\\users\\akshay\\anaconda3\\lib\\site-packages (from pandas) (2022.1)\n",
      "Requirement already satisfied: python-dateutil>=2.8.1 in c:\\users\\akshay\\anaconda3\\lib\\site-packages (from pandas) (2.8.2)\n",
      "Requirement already satisfied: numpy>=1.18.5 in c:\\users\\akshay\\anaconda3\\lib\\site-packages (from pandas) (1.21.5)\n",
      "Requirement already satisfied: six>=1.5 in c:\\users\\akshay\\anaconda3\\lib\\site-packages (from python-dateutil>=2.8.1->pandas) (1.16.0)\n"
     ]
    }
   ],
   "source": [
    "!pip install pandas"
   ]
  },
  {
   "cell_type": "code",
   "execution_count": 2,
   "id": "50621b1c",
   "metadata": {
    "ExecuteTime": {
     "end_time": "2022-11-25T04:50:38.745223Z",
     "start_time": "2022-11-25T04:50:37.567277Z"
    }
   },
   "outputs": [],
   "source": [
    "import pandas as pd"
   ]
  },
  {
   "cell_type": "code",
   "execution_count": 3,
   "id": "8b19c2c7",
   "metadata": {
    "ExecuteTime": {
     "end_time": "2022-11-25T04:51:37.548845Z",
     "start_time": "2022-11-25T04:51:37.530063Z"
    }
   },
   "outputs": [],
   "source": [
    "#pd is name given now. you can give anything"
   ]
  },
  {
   "cell_type": "code",
   "execution_count": 5,
   "id": "8f54282a",
   "metadata": {
    "ExecuteTime": {
     "end_time": "2022-11-25T04:55:07.780608Z",
     "start_time": "2022-11-25T04:55:07.757716Z"
    }
   },
   "outputs": [],
   "source": [
    "s = pd.Series(data = ['A',10,2500])"
   ]
  },
  {
   "cell_type": "code",
   "execution_count": 6,
   "id": "7fb2e8f8",
   "metadata": {
    "ExecuteTime": {
     "end_time": "2022-11-25T04:55:40.852074Z",
     "start_time": "2022-11-25T04:55:40.820362Z"
    }
   },
   "outputs": [
    {
     "data": {
      "text/plain": [
       "pandas.core.series.Series"
      ]
     },
     "execution_count": 6,
     "metadata": {},
     "output_type": "execute_result"
    }
   ],
   "source": [
    "type(s)"
   ]
  },
  {
   "cell_type": "code",
   "execution_count": 7,
   "id": "edc66d1b",
   "metadata": {
    "ExecuteTime": {
     "end_time": "2022-11-25T04:55:50.319003Z",
     "start_time": "2022-11-25T04:55:50.295343Z"
    }
   },
   "outputs": [
    {
     "data": {
      "text/plain": [
       "0       A\n",
       "1      10\n",
       "2    2500\n",
       "dtype: object"
      ]
     },
     "execution_count": 7,
     "metadata": {},
     "output_type": "execute_result"
    }
   ],
   "source": [
    "s"
   ]
  },
  {
   "cell_type": "code",
   "execution_count": 16,
   "id": "7eb1a130",
   "metadata": {
    "ExecuteTime": {
     "end_time": "2022-11-25T05:06:34.423528Z",
     "start_time": "2022-11-25T05:06:34.408452Z"
    }
   },
   "outputs": [],
   "source": [
    "s = pd.Series(data = [10,20,30],index=['a','b','c'],name = 'my')"
   ]
  },
  {
   "cell_type": "code",
   "execution_count": 18,
   "id": "07b4072e",
   "metadata": {
    "ExecuteTime": {
     "end_time": "2022-11-25T05:06:55.848072Z",
     "start_time": "2022-11-25T05:06:55.837027Z"
    }
   },
   "outputs": [
    {
     "data": {
      "text/plain": [
       "a    10\n",
       "b    20\n",
       "c    30\n",
       "Name: my, dtype: int64"
      ]
     },
     "execution_count": 18,
     "metadata": {},
     "output_type": "execute_result"
    }
   ],
   "source": [
    "s"
   ]
  },
  {
   "cell_type": "code",
   "execution_count": 19,
   "id": "e0d7eb3f",
   "metadata": {
    "ExecuteTime": {
     "end_time": "2022-11-25T05:11:54.714401Z",
     "start_time": "2022-11-25T05:11:54.708510Z"
    }
   },
   "outputs": [],
   "source": [
    "lst = [['python',90,'pun'],['ml',100,'mum'],['dl',99,'hyd']]\n",
    "\n",
    "col = ['sub','marks','city']"
   ]
  },
  {
   "cell_type": "code",
   "execution_count": 21,
   "id": "f6e8d8ab",
   "metadata": {
    "ExecuteTime": {
     "end_time": "2022-11-25T05:15:17.460337Z",
     "start_time": "2022-11-25T05:15:17.443370Z"
    }
   },
   "outputs": [],
   "source": [
    "df = pd.DataFrame(data=lst, columns=col)"
   ]
  },
  {
   "cell_type": "code",
   "execution_count": 22,
   "id": "c2067107",
   "metadata": {
    "ExecuteTime": {
     "end_time": "2022-11-25T05:15:24.831795Z",
     "start_time": "2022-11-25T05:15:24.809171Z"
    }
   },
   "outputs": [
    {
     "data": {
      "text/html": [
       "<div>\n",
       "<style scoped>\n",
       "    .dataframe tbody tr th:only-of-type {\n",
       "        vertical-align: middle;\n",
       "    }\n",
       "\n",
       "    .dataframe tbody tr th {\n",
       "        vertical-align: top;\n",
       "    }\n",
       "\n",
       "    .dataframe thead th {\n",
       "        text-align: right;\n",
       "    }\n",
       "</style>\n",
       "<table border=\"1\" class=\"dataframe\">\n",
       "  <thead>\n",
       "    <tr style=\"text-align: right;\">\n",
       "      <th></th>\n",
       "      <th>sub</th>\n",
       "      <th>marks</th>\n",
       "      <th>city</th>\n",
       "    </tr>\n",
       "  </thead>\n",
       "  <tbody>\n",
       "    <tr>\n",
       "      <th>0</th>\n",
       "      <td>python</td>\n",
       "      <td>90</td>\n",
       "      <td>pun</td>\n",
       "    </tr>\n",
       "    <tr>\n",
       "      <th>1</th>\n",
       "      <td>ml</td>\n",
       "      <td>100</td>\n",
       "      <td>mum</td>\n",
       "    </tr>\n",
       "    <tr>\n",
       "      <th>2</th>\n",
       "      <td>dl</td>\n",
       "      <td>99</td>\n",
       "      <td>hyd</td>\n",
       "    </tr>\n",
       "  </tbody>\n",
       "</table>\n",
       "</div>"
      ],
      "text/plain": [
       "      sub  marks city\n",
       "0  python     90  pun\n",
       "1      ml    100  mum\n",
       "2      dl     99  hyd"
      ]
     },
     "execution_count": 22,
     "metadata": {},
     "output_type": "execute_result"
    }
   ],
   "source": [
    "df"
   ]
  },
  {
   "cell_type": "code",
   "execution_count": 23,
   "id": "a01d5823",
   "metadata": {
    "ExecuteTime": {
     "end_time": "2022-11-25T05:35:54.017934Z",
     "start_time": "2022-11-25T05:35:53.995602Z"
    }
   },
   "outputs": [
    {
     "ename": "SyntaxError",
     "evalue": "invalid syntax (1396975456.py, line 2)",
     "output_type": "error",
     "traceback": [
      "\u001b[1;36m  File \u001b[1;32m\"C:\\Users\\AKSHAY\\AppData\\Local\\Temp\\ipykernel_43672\\1396975456.py\"\u001b[1;36m, line \u001b[1;32m2\u001b[0m\n\u001b[1;33m    ['subjects' = 'python','Ml','Dl'],\u001b[0m\n\u001b[1;37m                ^\u001b[0m\n\u001b[1;31mSyntaxError\u001b[0m\u001b[1;31m:\u001b[0m invalid syntax\n"
     ]
    }
   ],
   "source": [
    "w = pd.DataFrame({\n",
    "    ['subjects' = 'python','Ml','Dl'],\n",
    "    ['marks' = 90,100,95],\n",
    "    ['city' = 'PUN','MUM','HYD']\n",
    "}) "
   ]
  },
  {
   "cell_type": "code",
   "execution_count": null,
   "id": "1505b977",
   "metadata": {},
   "outputs": [],
   "source": []
  }
 ],
 "metadata": {
  "kernelspec": {
   "display_name": "Python 3 (ipykernel)",
   "language": "python",
   "name": "python3"
  },
  "language_info": {
   "codemirror_mode": {
    "name": "ipython",
    "version": 3
   },
   "file_extension": ".py",
   "mimetype": "text/x-python",
   "name": "python",
   "nbconvert_exporter": "python",
   "pygments_lexer": "ipython3",
   "version": "3.9.13"
  }
 },
 "nbformat": 4,
 "nbformat_minor": 5
}
