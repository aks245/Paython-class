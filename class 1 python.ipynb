{
 "cells": [
  {
   "cell_type": "code",
   "execution_count": 2,
   "id": "2c540205",
   "metadata": {
    "ExecuteTime": {
     "end_time": "2022-11-23T04:49:49.645232Z",
     "start_time": "2022-11-23T04:49:49.638206Z"
    }
   },
   "outputs": [
    {
     "data": {
      "text/plain": [
       "500"
      ]
     },
     "execution_count": 2,
     "metadata": {},
     "output_type": "execute_result"
    }
   ],
   "source": [
    "#variables\n",
    "a = 500\n",
    "type(a)\n",
    "a"
   ]
  },
  {
   "cell_type": "code",
   "execution_count": 3,
   "id": "024afc37",
   "metadata": {
    "ExecuteTime": {
     "end_time": "2022-11-23T04:50:28.244970Z",
     "start_time": "2022-11-23T04:50:28.238165Z"
    }
   },
   "outputs": [
    {
     "data": {
      "text/plain": [
       "503"
      ]
     },
     "execution_count": 3,
     "metadata": {},
     "output_type": "execute_result"
    }
   ],
   "source": [
    "a+3"
   ]
  },
  {
   "cell_type": "code",
   "execution_count": 4,
   "id": "9fbe55c7",
   "metadata": {
    "ExecuteTime": {
     "end_time": "2022-11-23T04:51:33.566619Z",
     "start_time": "2022-11-23T04:51:33.561592Z"
    }
   },
   "outputs": [
    {
     "data": {
      "text/plain": [
       "492"
      ]
     },
     "execution_count": 4,
     "metadata": {},
     "output_type": "execute_result"
    }
   ],
   "source": [
    "a-8"
   ]
  },
  {
   "cell_type": "code",
   "execution_count": 5,
   "id": "6d894af3",
   "metadata": {
    "ExecuteTime": {
     "end_time": "2022-11-23T04:52:34.683835Z",
     "start_time": "2022-11-23T04:52:34.678859Z"
    }
   },
   "outputs": [],
   "source": [
    "a = 10\n",
    "b = 20"
   ]
  },
  {
   "cell_type": "code",
   "execution_count": 6,
   "id": "8725c31c",
   "metadata": {
    "ExecuteTime": {
     "end_time": "2022-11-23T04:52:47.131002Z",
     "start_time": "2022-11-23T04:52:47.125004Z"
    }
   },
   "outputs": [
    {
     "data": {
      "text/plain": [
       "False"
      ]
     },
     "execution_count": 6,
     "metadata": {},
     "output_type": "execute_result"
    }
   ],
   "source": [
    "a==b"
   ]
  },
  {
   "cell_type": "code",
   "execution_count": 7,
   "id": "e095a189",
   "metadata": {
    "ExecuteTime": {
     "end_time": "2022-11-23T04:53:16.683069Z",
     "start_time": "2022-11-23T04:53:16.676915Z"
    }
   },
   "outputs": [
    {
     "data": {
      "text/plain": [
       "True"
      ]
     },
     "execution_count": 7,
     "metadata": {},
     "output_type": "execute_result"
    }
   ],
   "source": [
    "a!=b"
   ]
  },
  {
   "cell_type": "code",
   "execution_count": 8,
   "id": "b806a6c4",
   "metadata": {
    "ExecuteTime": {
     "end_time": "2022-11-23T04:53:36.736835Z",
     "start_time": "2022-11-23T04:53:36.731837Z"
    }
   },
   "outputs": [
    {
     "data": {
      "text/plain": [
       "False"
      ]
     },
     "execution_count": 8,
     "metadata": {},
     "output_type": "execute_result"
    }
   ],
   "source": [
    "a>b"
   ]
  },
  {
   "cell_type": "code",
   "execution_count": 9,
   "id": "ab89f4f2",
   "metadata": {
    "ExecuteTime": {
     "end_time": "2022-11-23T04:54:37.859726Z",
     "start_time": "2022-11-23T04:54:37.853460Z"
    }
   },
   "outputs": [
    {
     "data": {
      "text/plain": [
       "\"'for multi line comment use 3 cots\""
      ]
     },
     "execution_count": 9,
     "metadata": {},
     "output_type": "execute_result"
    }
   ],
   "source": [
    "#hashtag is for single lline comment\n",
    "'''for multi line comment use 3 cots'''"
   ]
  },
  {
   "cell_type": "code",
   "execution_count": 10,
   "id": "d0b10ad1",
   "metadata": {
    "ExecuteTime": {
     "end_time": "2022-11-23T04:56:52.649235Z",
     "start_time": "2022-11-23T04:56:52.643450Z"
    }
   },
   "outputs": [
    {
     "data": {
      "text/plain": [
       "float"
      ]
     },
     "execution_count": 10,
     "metadata": {},
     "output_type": "execute_result"
    }
   ],
   "source": [
    "f = 10.8\n",
    "type (f)"
   ]
  },
  {
   "cell_type": "code",
   "execution_count": 11,
   "id": "5cf0ec2d",
   "metadata": {
    "ExecuteTime": {
     "end_time": "2022-11-23T04:59:37.595187Z",
     "start_time": "2022-11-23T04:59:37.590601Z"
    }
   },
   "outputs": [
    {
     "data": {
      "text/plain": [
       "True"
      ]
     },
     "execution_count": 11,
     "metadata": {},
     "output_type": "execute_result"
    }
   ],
   "source": [
    "s = 'this is class'\n",
    "s1 = \"this is class\"\n",
    "s2 = '''this is class'''\n",
    "#all s s1 s2 are same\n",
    "s1==s2"
   ]
  },
  {
   "cell_type": "code",
   "execution_count": 2,
   "id": "51ca2272",
   "metadata": {
    "ExecuteTime": {
     "end_time": "2022-11-23T05:05:43.343646Z",
     "start_time": "2022-11-23T05:05:43.339642Z"
    }
   },
   "outputs": [],
   "source": [
    "#therefore there is need of and use of double and tripple cots\n",
    "d = \"it's a class\""
   ]
  },
  {
   "cell_type": "code",
   "execution_count": 4,
   "id": "20d3ba25",
   "metadata": {
    "ExecuteTime": {
     "end_time": "2022-11-23T05:09:34.760766Z",
     "start_time": "2022-11-23T05:09:34.751454Z"
    }
   },
   "outputs": [
    {
     "data": {
      "text/plain": [
       "float"
      ]
     },
     "execution_count": 4,
     "metadata": {},
     "output_type": "execute_result"
    }
   ],
   "source": [
    "a = 10.78\n",
    "type(a)"
   ]
  },
  {
   "cell_type": "code",
   "execution_count": 5,
   "id": "55e4c7b2",
   "metadata": {
    "ExecuteTime": {
     "end_time": "2022-11-23T05:09:59.575857Z",
     "start_time": "2022-11-23T05:09:59.569758Z"
    }
   },
   "outputs": [
    {
     "data": {
      "text/plain": [
       "10"
      ]
     },
     "execution_count": 5,
     "metadata": {},
     "output_type": "execute_result"
    }
   ],
   "source": [
    "int(a)"
   ]
  },
  {
   "cell_type": "code",
   "execution_count": 8,
   "id": "55cb9577",
   "metadata": {
    "ExecuteTime": {
     "end_time": "2022-11-23T05:10:34.772234Z",
     "start_time": "2022-11-23T05:10:34.766964Z"
    }
   },
   "outputs": [
    {
     "data": {
      "text/plain": [
       "10.78"
      ]
     },
     "execution_count": 8,
     "metadata": {},
     "output_type": "execute_result"
    }
   ],
   "source": [
    "a"
   ]
  },
  {
   "cell_type": "code",
   "execution_count": 9,
   "id": "de31bec6",
   "metadata": {
    "ExecuteTime": {
     "end_time": "2022-11-23T05:10:50.368596Z",
     "start_time": "2022-11-23T05:10:50.364958Z"
    }
   },
   "outputs": [],
   "source": [
    "a= str(a)"
   ]
  },
  {
   "cell_type": "code",
   "execution_count": 11,
   "id": "b33733a9",
   "metadata": {
    "ExecuteTime": {
     "end_time": "2022-11-23T05:11:05.685198Z",
     "start_time": "2022-11-23T05:11:05.680191Z"
    }
   },
   "outputs": [
    {
     "data": {
      "text/plain": [
       "str"
      ]
     },
     "execution_count": 11,
     "metadata": {},
     "output_type": "execute_result"
    }
   ],
   "source": [
    "type(a)"
   ]
  },
  {
   "cell_type": "code",
   "execution_count": 12,
   "id": "c6c30252",
   "metadata": {
    "ExecuteTime": {
     "end_time": "2022-11-23T05:11:49.421614Z",
     "start_time": "2022-11-23T05:11:49.415063Z"
    }
   },
   "outputs": [
    {
     "name": "stdout",
     "output_type": "stream",
     "text": [
      "<class 'str'>\n"
     ]
    }
   ],
   "source": [
    "print(type(a))"
   ]
  },
  {
   "cell_type": "code",
   "execution_count": 13,
   "id": "16f7d5e9",
   "metadata": {
    "ExecuteTime": {
     "end_time": "2022-11-23T05:12:12.044455Z",
     "start_time": "2022-11-23T05:12:12.040157Z"
    }
   },
   "outputs": [
    {
     "name": "stdout",
     "output_type": "stream",
     "text": [
      "10.78\n"
     ]
    }
   ],
   "source": [
    "print(a)"
   ]
  },
  {
   "cell_type": "code",
   "execution_count": 14,
   "id": "1046d801",
   "metadata": {
    "ExecuteTime": {
     "end_time": "2022-11-23T05:12:19.300990Z",
     "start_time": "2022-11-23T05:12:19.295205Z"
    }
   },
   "outputs": [
    {
     "data": {
      "text/plain": [
       "'10.78'"
      ]
     },
     "execution_count": 14,
     "metadata": {},
     "output_type": "execute_result"
    }
   ],
   "source": [
    "a"
   ]
  },
  {
   "cell_type": "code",
   "execution_count": 15,
   "id": "fbe738fe",
   "metadata": {
    "ExecuteTime": {
     "end_time": "2022-11-23T05:12:33.878284Z",
     "start_time": "2022-11-23T05:12:33.872596Z"
    }
   },
   "outputs": [
    {
     "data": {
      "text/plain": [
       "str"
      ]
     },
     "execution_count": 15,
     "metadata": {},
     "output_type": "execute_result"
    }
   ],
   "source": [
    "type(a)"
   ]
  },
  {
   "cell_type": "code",
   "execution_count": 16,
   "id": "f7d126cb",
   "metadata": {
    "ExecuteTime": {
     "end_time": "2022-11-23T05:16:31.728324Z",
     "start_time": "2022-11-23T05:16:31.723672Z"
    }
   },
   "outputs": [],
   "source": [
    "#create string\n",
    "s = 'we are learning'"
   ]
  },
  {
   "cell_type": "code",
   "execution_count": 17,
   "id": "26f81afd",
   "metadata": {
    "ExecuteTime": {
     "end_time": "2022-11-23T05:19:57.362468Z",
     "start_time": "2022-11-23T05:19:57.354212Z"
    }
   },
   "outputs": [
    {
     "data": {
      "text/plain": [
       "'We are learning'"
      ]
     },
     "execution_count": 17,
     "metadata": {},
     "output_type": "execute_result"
    }
   ],
   "source": [
    "s.capitalize()"
   ]
  },
  {
   "cell_type": "code",
   "execution_count": 18,
   "id": "5e67396c",
   "metadata": {
    "ExecuteTime": {
     "end_time": "2022-11-23T05:22:03.251190Z",
     "start_time": "2022-11-23T05:22:03.245614Z"
    }
   },
   "outputs": [
    {
     "data": {
      "text/plain": [
       "'we are learning'"
      ]
     },
     "execution_count": 18,
     "metadata": {},
     "output_type": "execute_result"
    }
   ],
   "source": [
    "s"
   ]
  },
  {
   "cell_type": "code",
   "execution_count": 19,
   "id": "47b3825e",
   "metadata": {
    "ExecuteTime": {
     "end_time": "2022-11-23T05:22:17.211363Z",
     "start_time": "2022-11-23T05:22:17.205436Z"
    }
   },
   "outputs": [
    {
     "data": {
      "text/plain": [
       "1"
      ]
     },
     "execution_count": 19,
     "metadata": {},
     "output_type": "execute_result"
    }
   ],
   "source": [
    "s.count('i')"
   ]
  },
  {
   "cell_type": "code",
   "execution_count": 20,
   "id": "6cf83fe3",
   "metadata": {
    "ExecuteTime": {
     "end_time": "2022-11-23T05:23:08.913188Z",
     "start_time": "2022-11-23T05:23:08.908462Z"
    }
   },
   "outputs": [
    {
     "data": {
      "text/plain": [
       "3"
      ]
     },
     "execution_count": 20,
     "metadata": {},
     "output_type": "execute_result"
    }
   ],
   "source": [
    "s.count('e')"
   ]
  },
  {
   "cell_type": "code",
   "execution_count": 21,
   "id": "4c850938",
   "metadata": {
    "ExecuteTime": {
     "end_time": "2022-11-23T05:23:49.961354Z",
     "start_time": "2022-11-23T05:23:49.957665Z"
    }
   },
   "outputs": [],
   "source": [
    "#count willgive count of that letter"
   ]
  },
  {
   "cell_type": "code",
   "execution_count": 22,
   "id": "9556d534",
   "metadata": {
    "ExecuteTime": {
     "end_time": "2022-11-23T05:24:12.127087Z",
     "start_time": "2022-11-23T05:24:12.121351Z"
    }
   },
   "outputs": [
    {
     "data": {
      "text/plain": [
       "3"
      ]
     },
     "execution_count": 22,
     "metadata": {},
     "output_type": "execute_result"
    }
   ],
   "source": [
    "s.find('are')"
   ]
  },
  {
   "cell_type": "code",
   "execution_count": 23,
   "id": "5fa8f7a8",
   "metadata": {
    "ExecuteTime": {
     "end_time": "2022-11-23T05:25:21.220806Z",
     "start_time": "2022-11-23T05:25:21.215536Z"
    }
   },
   "outputs": [
    {
     "data": {
      "text/plain": [
       "12"
      ]
     },
     "execution_count": 23,
     "metadata": {},
     "output_type": "execute_result"
    }
   ],
   "source": [
    "s.index('i')"
   ]
  },
  {
   "cell_type": "code",
   "execution_count": 24,
   "id": "44e9cdd2",
   "metadata": {
    "ExecuteTime": {
     "end_time": "2022-11-23T05:25:31.145533Z",
     "start_time": "2022-11-23T05:25:31.140029Z"
    }
   },
   "outputs": [
    {
     "data": {
      "text/plain": [
       "'we are learning'"
      ]
     },
     "execution_count": 24,
     "metadata": {},
     "output_type": "execute_result"
    }
   ],
   "source": [
    "s"
   ]
  },
  {
   "cell_type": "code",
   "execution_count": 26,
   "id": "2cce9cc2",
   "metadata": {
    "ExecuteTime": {
     "end_time": "2022-11-23T05:27:46.702786Z",
     "start_time": "2022-11-23T05:27:46.697290Z"
    }
   },
   "outputs": [
    {
     "data": {
      "text/plain": [
       "'w+e+ +a+r+e+ +l+e+a+r+n+i+n+g'"
      ]
     },
     "execution_count": 26,
     "metadata": {},
     "output_type": "execute_result"
    }
   ],
   "source": [
    "'+'.join(s)"
   ]
  },
  {
   "cell_type": "code",
   "execution_count": 27,
   "id": "09bcc2d2",
   "metadata": {
    "ExecuteTime": {
     "end_time": "2022-11-23T05:31:11.140142Z",
     "start_time": "2022-11-23T05:31:11.136598Z"
    }
   },
   "outputs": [],
   "source": [
    "s = s.replace(' ','+')"
   ]
  },
  {
   "cell_type": "code",
   "execution_count": 28,
   "id": "24b0de47",
   "metadata": {
    "ExecuteTime": {
     "end_time": "2022-11-23T05:31:17.399885Z",
     "start_time": "2022-11-23T05:31:17.395413Z"
    }
   },
   "outputs": [
    {
     "data": {
      "text/plain": [
       "'we+are+learning'"
      ]
     },
     "execution_count": 28,
     "metadata": {},
     "output_type": "execute_result"
    }
   ],
   "source": [
    "s"
   ]
  },
  {
   "cell_type": "code",
   "execution_count": 29,
   "id": "e3f1efe0",
   "metadata": {
    "ExecuteTime": {
     "end_time": "2022-11-23T05:37:04.024793Z",
     "start_time": "2022-11-23T05:37:04.018910Z"
    }
   },
   "outputs": [
    {
     "data": {
      "text/plain": [
       "['we+are+learning']"
      ]
     },
     "execution_count": 29,
     "metadata": {},
     "output_type": "execute_result"
    }
   ],
   "source": [
    "s.split('#')"
   ]
  },
  {
   "cell_type": "code",
   "execution_count": 30,
   "id": "787de68e",
   "metadata": {
    "ExecuteTime": {
     "end_time": "2022-11-23T05:39:54.195264Z",
     "start_time": "2022-11-23T05:39:54.188993Z"
    }
   },
   "outputs": [
    {
     "data": {
      "text/plain": [
       "<function str.split(sep=None, maxsplit=-1)>"
      ]
     },
     "execution_count": 30,
     "metadata": {},
     "output_type": "execute_result"
    }
   ],
   "source": [
    "s.split"
   ]
  },
  {
   "cell_type": "code",
   "execution_count": 32,
   "id": "b68f91ee",
   "metadata": {
    "ExecuteTime": {
     "end_time": "2022-11-23T05:40:47.593172Z",
     "start_time": "2022-11-23T05:40:47.587021Z"
    }
   },
   "outputs": [
    {
     "data": {
      "text/plain": [
       "['we+are+learning']"
      ]
     },
     "execution_count": 32,
     "metadata": {},
     "output_type": "execute_result"
    }
   ],
   "source": [
    "s.split(' ')"
   ]
  },
  {
   "cell_type": "code",
   "execution_count": 1,
   "id": "a4358c82",
   "metadata": {
    "ExecuteTime": {
     "end_time": "2022-11-23T05:41:29.759417Z",
     "start_time": "2022-11-23T05:41:29.576589Z"
    }
   },
   "outputs": [
    {
     "ename": "NameError",
     "evalue": "name 's' is not defined",
     "output_type": "error",
     "traceback": [
      "\u001b[1;31m---------------------------------------------------------------------------\u001b[0m",
      "\u001b[1;31mNameError\u001b[0m                                 Traceback (most recent call last)",
      "\u001b[1;32m~\\AppData\\Local\\Temp\\ipykernel_25992\\1199630066.py\u001b[0m in \u001b[0;36m<module>\u001b[1;34m\u001b[0m\n\u001b[1;32m----> 1\u001b[1;33m \u001b[0ms\u001b[0m\u001b[1;33m.\u001b[0m\u001b[0msplit\u001b[0m\u001b[1;33m(\u001b[0m\u001b[1;34m'#'\u001b[0m\u001b[1;33m)\u001b[0m\u001b[1;33m\u001b[0m\u001b[1;33m\u001b[0m\u001b[0m\n\u001b[0m",
      "\u001b[1;31mNameError\u001b[0m: name 's' is not defined"
     ]
    }
   ],
   "source": [
    "s.split('#')"
   ]
  },
  {
   "cell_type": "code",
   "execution_count": 2,
   "id": "dcbe9c00",
   "metadata": {
    "ExecuteTime": {
     "end_time": "2022-11-23T05:41:44.187444Z",
     "start_time": "2022-11-23T05:41:44.179600Z"
    }
   },
   "outputs": [
    {
     "ename": "NameError",
     "evalue": "name 's' is not defined",
     "output_type": "error",
     "traceback": [
      "\u001b[1;31m---------------------------------------------------------------------------\u001b[0m",
      "\u001b[1;31mNameError\u001b[0m                                 Traceback (most recent call last)",
      "\u001b[1;32m~\\AppData\\Local\\Temp\\ipykernel_25992\\1028141915.py\u001b[0m in \u001b[0;36m<module>\u001b[1;34m\u001b[0m\n\u001b[1;32m----> 1\u001b[1;33m \u001b[0ms\u001b[0m\u001b[1;33m\u001b[0m\u001b[1;33m\u001b[0m\u001b[0m\n\u001b[0m",
      "\u001b[1;31mNameError\u001b[0m: name 's' is not defined"
     ]
    }
   ],
   "source": [
    "s"
   ]
  },
  {
   "cell_type": "code",
   "execution_count": 3,
   "id": "5c99ebb6",
   "metadata": {
    "ExecuteTime": {
     "end_time": "2022-11-23T05:42:02.465385Z",
     "start_time": "2022-11-23T05:42:02.460986Z"
    }
   },
   "outputs": [],
   "source": [
    "s = 'we are in class'"
   ]
  },
  {
   "cell_type": "code",
   "execution_count": 4,
   "id": "9f04cc26",
   "metadata": {
    "ExecuteTime": {
     "end_time": "2022-11-23T05:42:05.508902Z",
     "start_time": "2022-11-23T05:42:05.498762Z"
    }
   },
   "outputs": [
    {
     "data": {
      "text/plain": [
       "'we are in class'"
      ]
     },
     "execution_count": 4,
     "metadata": {},
     "output_type": "execute_result"
    }
   ],
   "source": [
    "s"
   ]
  },
  {
   "cell_type": "code",
   "execution_count": 5,
   "id": "ea8b48fd",
   "metadata": {
    "ExecuteTime": {
     "end_time": "2022-11-23T05:42:23.571519Z",
     "start_time": "2022-11-23T05:42:23.566411Z"
    }
   },
   "outputs": [
    {
     "data": {
      "text/plain": [
       "['we are in class']"
      ]
     },
     "execution_count": 5,
     "metadata": {},
     "output_type": "execute_result"
    }
   ],
   "source": [
    "s.split('#')"
   ]
  },
  {
   "cell_type": "code",
   "execution_count": 6,
   "id": "65c26c5c",
   "metadata": {
    "ExecuteTime": {
     "end_time": "2022-11-23T05:45:42.940501Z",
     "start_time": "2022-11-23T05:45:42.935326Z"
    }
   },
   "outputs": [
    {
     "data": {
      "text/plain": [
       "'we are in class'"
      ]
     },
     "execution_count": 6,
     "metadata": {},
     "output_type": "execute_result"
    }
   ],
   "source": [
    "s   "
   ]
  },
  {
   "cell_type": "code",
   "execution_count": 7,
   "id": "26c32047",
   "metadata": {
    "ExecuteTime": {
     "end_time": "2022-11-23T05:47:29.078628Z",
     "start_time": "2022-11-23T05:47:29.073260Z"
    }
   },
   "outputs": [
    {
     "data": {
      "text/plain": [
       "['we', 'are', 'in', 'class']"
      ]
     },
     "execution_count": 7,
     "metadata": {},
     "output_type": "execute_result"
    }
   ],
   "source": [
    "s.split(' ')"
   ]
  },
  {
   "cell_type": "code",
   "execution_count": 8,
   "id": "2f02bfc7",
   "metadata": {
    "ExecuteTime": {
     "end_time": "2022-11-23T06:03:16.139661Z",
     "start_time": "2022-11-23T06:03:16.135732Z"
    }
   },
   "outputs": [],
   "source": [
    "w = 'we are learning python'"
   ]
  },
  {
   "cell_type": "code",
   "execution_count": 9,
   "id": "05868752",
   "metadata": {
    "ExecuteTime": {
     "end_time": "2022-11-23T06:03:28.850296Z",
     "start_time": "2022-11-23T06:03:28.844526Z"
    }
   },
   "outputs": [
    {
     "data": {
      "text/plain": [
       "['we', 'are', 'learning', 'python']"
      ]
     },
     "execution_count": 9,
     "metadata": {},
     "output_type": "execute_result"
    }
   ],
   "source": [
    "w.split(' ')"
   ]
  },
  {
   "cell_type": "code",
   "execution_count": 10,
   "id": "2833d344",
   "metadata": {
    "ExecuteTime": {
     "end_time": "2022-11-23T06:03:33.827999Z",
     "start_time": "2022-11-23T06:03:33.822986Z"
    }
   },
   "outputs": [
    {
     "data": {
      "text/plain": [
       "'we are learning python'"
      ]
     },
     "execution_count": 10,
     "metadata": {},
     "output_type": "execute_result"
    }
   ],
   "source": [
    "w"
   ]
  },
  {
   "cell_type": "code",
   "execution_count": 11,
   "id": "81a6237e",
   "metadata": {
    "ExecuteTime": {
     "end_time": "2022-11-23T06:03:58.571278Z",
     "start_time": "2022-11-23T06:03:58.566072Z"
    }
   },
   "outputs": [
    {
     "data": {
      "text/plain": [
       "'we/are/learning/python'"
      ]
     },
     "execution_count": 11,
     "metadata": {},
     "output_type": "execute_result"
    }
   ],
   "source": [
    "w.replace(' ','/')"
   ]
  },
  {
   "cell_type": "code",
   "execution_count": 12,
   "id": "9f76421d",
   "metadata": {
    "ExecuteTime": {
     "end_time": "2022-11-23T06:04:03.773560Z",
     "start_time": "2022-11-23T06:04:03.768873Z"
    }
   },
   "outputs": [
    {
     "data": {
      "text/plain": [
       "'we are learning python'"
      ]
     },
     "execution_count": 12,
     "metadata": {},
     "output_type": "execute_result"
    }
   ],
   "source": [
    "w"
   ]
  },
  {
   "cell_type": "code",
   "execution_count": 13,
   "id": "21106696",
   "metadata": {
    "ExecuteTime": {
     "end_time": "2022-11-23T06:05:57.011032Z",
     "start_time": "2022-11-23T06:05:57.005712Z"
    }
   },
   "outputs": [],
   "source": [
    "w = w.replace(' ','/')"
   ]
  },
  {
   "cell_type": "code",
   "execution_count": 14,
   "id": "0c8113a4",
   "metadata": {
    "ExecuteTime": {
     "end_time": "2022-11-23T06:06:02.185455Z",
     "start_time": "2022-11-23T06:06:02.181454Z"
    }
   },
   "outputs": [
    {
     "data": {
      "text/plain": [
       "'we/are/learning/python'"
      ]
     },
     "execution_count": 14,
     "metadata": {},
     "output_type": "execute_result"
    }
   ],
   "source": [
    "w"
   ]
  },
  {
   "cell_type": "code",
   "execution_count": 16,
   "id": "9ae13c32",
   "metadata": {
    "ExecuteTime": {
     "end_time": "2022-11-23T06:07:08.959348Z",
     "start_time": "2022-11-23T06:07:08.954128Z"
    }
   },
   "outputs": [
    {
     "data": {
      "text/plain": [
       "['we', 'are', 'learning', 'python']"
      ]
     },
     "execution_count": 16,
     "metadata": {},
     "output_type": "execute_result"
    }
   ],
   "source": [
    "w.split('/')"
   ]
  },
  {
   "cell_type": "code",
   "execution_count": 1,
   "id": "94bf9059",
   "metadata": {
    "ExecuteTime": {
     "end_time": "2022-11-24T04:39:54.760283Z",
     "start_time": "2022-11-24T04:39:54.739627Z"
    }
   },
   "outputs": [],
   "source": [
    "#data structure"
   ]
  },
  {
   "cell_type": "code",
   "execution_count": 2,
   "id": "8bbd902f",
   "metadata": {
    "ExecuteTime": {
     "end_time": "2022-11-24T05:05:11.855247Z",
     "start_time": "2022-11-24T05:05:11.836420Z"
    }
   },
   "outputs": [],
   "source": [
    "#creating list\n",
    "lst = []"
   ]
  },
  {
   "cell_type": "code",
   "execution_count": 3,
   "id": "c5950743",
   "metadata": {
    "ExecuteTime": {
     "end_time": "2022-11-24T05:05:25.389863Z",
     "start_time": "2022-11-24T05:05:25.376972Z"
    }
   },
   "outputs": [
    {
     "data": {
      "text/plain": [
       "list"
      ]
     },
     "execution_count": 3,
     "metadata": {},
     "output_type": "execute_result"
    }
   ],
   "source": [
    "type(lst)"
   ]
  },
  {
   "cell_type": "code",
   "execution_count": 4,
   "id": "ac2cc859",
   "metadata": {
    "ExecuteTime": {
     "end_time": "2022-11-24T05:07:01.717272Z",
     "start_time": "2022-11-24T05:07:01.701787Z"
    }
   },
   "outputs": [],
   "source": [
    "lst = [8,9,1011,45,'hi','hii']"
   ]
  },
  {
   "cell_type": "code",
   "execution_count": 5,
   "id": "a1b5a0f2",
   "metadata": {
    "ExecuteTime": {
     "end_time": "2022-11-24T05:07:51.952470Z",
     "start_time": "2022-11-24T05:07:51.936070Z"
    }
   },
   "outputs": [],
   "source": [
    "#another method to create list\n",
    "lst1 = list()"
   ]
  },
  {
   "cell_type": "code",
   "execution_count": 6,
   "id": "8fc853ca",
   "metadata": {
    "ExecuteTime": {
     "end_time": "2022-11-24T05:08:13.800682Z",
     "start_time": "2022-11-24T05:08:13.793513Z"
    }
   },
   "outputs": [
    {
     "data": {
      "text/plain": [
       "[8, 9, 1011, 45, 'hi', 'hii']"
      ]
     },
     "execution_count": 6,
     "metadata": {},
     "output_type": "execute_result"
    }
   ],
   "source": [
    "lst "
   ]
  },
  {
   "cell_type": "code",
   "execution_count": 7,
   "id": "6734466d",
   "metadata": {
    "ExecuteTime": {
     "end_time": "2022-11-24T05:08:52.490212Z",
     "start_time": "2022-11-24T05:08:52.470921Z"
    }
   },
   "outputs": [
    {
     "data": {
      "text/plain": [
       "45"
      ]
     },
     "execution_count": 7,
     "metadata": {},
     "output_type": "execute_result"
    }
   ],
   "source": [
    "#calling elements \n",
    "lst[3]"
   ]
  },
  {
   "cell_type": "code",
   "execution_count": 8,
   "id": "5d48368e",
   "metadata": {
    "ExecuteTime": {
     "end_time": "2022-11-24T05:09:19.663622Z",
     "start_time": "2022-11-24T05:09:19.653257Z"
    }
   },
   "outputs": [
    {
     "ename": "SyntaxError",
     "evalue": "invalid syntax (2911472067.py, line 1)",
     "output_type": "error",
     "traceback": [
      "\u001b[1;36m  File \u001b[1;32m\"C:\\Users\\AKSHAY\\AppData\\Local\\Temp\\ipykernel_31412\\2911472067.py\"\u001b[1;36m, line \u001b[1;32m1\u001b[0m\n\u001b[1;33m    lst.pop[]\u001b[0m\n\u001b[1;37m            ^\u001b[0m\n\u001b[1;31mSyntaxError\u001b[0m\u001b[1;31m:\u001b[0m invalid syntax\n"
     ]
    }
   ],
   "source": [
    "lst.pop[]"
   ]
  },
  {
   "cell_type": "code",
   "execution_count": 9,
   "id": "ca046c4a",
   "metadata": {
    "ExecuteTime": {
     "end_time": "2022-11-24T05:10:51.746029Z",
     "start_time": "2022-11-24T05:10:51.338769Z"
    }
   },
   "outputs": [
    {
     "ename": "TypeError",
     "evalue": "'builtin_function_or_method' object is not subscriptable",
     "output_type": "error",
     "traceback": [
      "\u001b[1;31m---------------------------------------------------------------------------\u001b[0m",
      "\u001b[1;31mTypeError\u001b[0m                                 Traceback (most recent call last)",
      "\u001b[1;32m~\\AppData\\Local\\Temp\\ipykernel_31412\\3184668009.py\u001b[0m in \u001b[0;36m<module>\u001b[1;34m\u001b[0m\n\u001b[1;32m----> 1\u001b[1;33m \u001b[0mlst\u001b[0m\u001b[1;33m.\u001b[0m\u001b[0mcount\u001b[0m\u001b[1;33m[\u001b[0m\u001b[1;36m8\u001b[0m\u001b[1;33m]\u001b[0m\u001b[1;33m\u001b[0m\u001b[1;33m\u001b[0m\u001b[0m\n\u001b[0m",
      "\u001b[1;31mTypeError\u001b[0m: 'builtin_function_or_method' object is not subscriptable"
     ]
    }
   ],
   "source": [
    "lst.count[8]"
   ]
  },
  {
   "cell_type": "code",
   "execution_count": 10,
   "id": "39128ad2",
   "metadata": {
    "ExecuteTime": {
     "end_time": "2022-11-24T05:11:13.364236Z",
     "start_time": "2022-11-24T05:11:13.347182Z"
    }
   },
   "outputs": [
    {
     "data": {
      "text/plain": [
       "[8, 9, 1011, 45, 'hi', 'hii']"
      ]
     },
     "execution_count": 10,
     "metadata": {},
     "output_type": "execute_result"
    }
   ],
   "source": [
    "lst"
   ]
  },
  {
   "cell_type": "code",
   "execution_count": 11,
   "id": "877088c4",
   "metadata": {
    "ExecuteTime": {
     "end_time": "2022-11-24T05:11:35.352532Z",
     "start_time": "2022-11-24T05:11:35.344279Z"
    }
   },
   "outputs": [
    {
     "data": {
      "text/plain": [
       "1"
      ]
     },
     "execution_count": 11,
     "metadata": {},
     "output_type": "execute_result"
    }
   ],
   "source": [
    "lst.count(8)\n",
    "#this will count how many time element is repeating"
   ]
  },
  {
   "cell_type": "code",
   "execution_count": 12,
   "id": "d7bb2e2a",
   "metadata": {
    "ExecuteTime": {
     "end_time": "2022-11-24T05:12:51.748193Z",
     "start_time": "2022-11-24T05:12:51.736368Z"
    }
   },
   "outputs": [
    {
     "data": {
      "text/plain": [
       "2"
      ]
     },
     "execution_count": 12,
     "metadata": {},
     "output_type": "execute_result"
    }
   ],
   "source": [
    "lst.index(1011)\n",
    "#will give at what number element is. it will give location of first element"
   ]
  },
  {
   "cell_type": "code",
   "execution_count": 13,
   "id": "3ae7f394",
   "metadata": {
    "ExecuteTime": {
     "end_time": "2022-11-24T05:14:06.795451Z",
     "start_time": "2022-11-24T05:14:06.778531Z"
    }
   },
   "outputs": [],
   "source": [
    "lst.append(1011)\n",
    "#will add this element at last position"
   ]
  },
  {
   "cell_type": "code",
   "execution_count": 14,
   "id": "95d1c804",
   "metadata": {
    "ExecuteTime": {
     "end_time": "2022-11-24T05:14:33.958573Z",
     "start_time": "2022-11-24T05:14:33.948078Z"
    }
   },
   "outputs": [
    {
     "data": {
      "text/plain": [
       "[8, 9, 1011, 45, 'hi', 'hii', 1011]"
      ]
     },
     "execution_count": 14,
     "metadata": {},
     "output_type": "execute_result"
    }
   ],
   "source": [
    "lst"
   ]
  },
  {
   "cell_type": "code",
   "execution_count": 15,
   "id": "6c424627",
   "metadata": {
    "ExecuteTime": {
     "end_time": "2022-11-24T05:15:29.315731Z",
     "start_time": "2022-11-24T05:15:29.296544Z"
    }
   },
   "outputs": [
    {
     "ename": "TypeError",
     "evalue": "'list' object is not callable",
     "output_type": "error",
     "traceback": [
      "\u001b[1;31m---------------------------------------------------------------------------\u001b[0m",
      "\u001b[1;31mTypeError\u001b[0m                                 Traceback (most recent call last)",
      "\u001b[1;32m~\\AppData\\Local\\Temp\\ipykernel_31412\\3912523700.py\u001b[0m in \u001b[0;36m<module>\u001b[1;34m\u001b[0m\n\u001b[1;32m----> 1\u001b[1;33m \u001b[0mlst\u001b[0m\u001b[1;33m(\u001b[0m\u001b[1;33m-\u001b[0m\u001b[1;36m1\u001b[0m\u001b[1;33m)\u001b[0m\u001b[1;33m\u001b[0m\u001b[1;33m\u001b[0m\u001b[0m\n\u001b[0m",
      "\u001b[1;31mTypeError\u001b[0m: 'list' object is not callable"
     ]
    }
   ],
   "source": [
    "lst(-1)"
   ]
  },
  {
   "cell_type": "code",
   "execution_count": 16,
   "id": "688ebfa9",
   "metadata": {
    "ExecuteTime": {
     "end_time": "2022-11-24T05:15:44.643417Z",
     "start_time": "2022-11-24T05:15:44.619188Z"
    }
   },
   "outputs": [
    {
     "ename": "ValueError",
     "evalue": "-1 is not in list",
     "output_type": "error",
     "traceback": [
      "\u001b[1;31m---------------------------------------------------------------------------\u001b[0m",
      "\u001b[1;31mValueError\u001b[0m                                Traceback (most recent call last)",
      "\u001b[1;32m~\\AppData\\Local\\Temp\\ipykernel_31412\\1117802851.py\u001b[0m in \u001b[0;36m<module>\u001b[1;34m\u001b[0m\n\u001b[1;32m----> 1\u001b[1;33m \u001b[0mlst\u001b[0m\u001b[1;33m.\u001b[0m\u001b[0mindex\u001b[0m\u001b[1;33m(\u001b[0m\u001b[1;33m-\u001b[0m\u001b[1;36m1\u001b[0m\u001b[1;33m)\u001b[0m\u001b[1;33m\u001b[0m\u001b[1;33m\u001b[0m\u001b[0m\n\u001b[0m",
      "\u001b[1;31mValueError\u001b[0m: -1 is not in list"
     ]
    }
   ],
   "source": [
    "lst.index(-1)"
   ]
  },
  {
   "cell_type": "code",
   "execution_count": 17,
   "id": "5bb5b6b3",
   "metadata": {
    "ExecuteTime": {
     "end_time": "2022-11-24T05:15:52.363302Z",
     "start_time": "2022-11-24T05:15:52.341578Z"
    }
   },
   "outputs": [
    {
     "data": {
      "text/plain": [
       "[8, 9, 1011, 45, 'hi', 'hii', 1011]"
      ]
     },
     "execution_count": 17,
     "metadata": {},
     "output_type": "execute_result"
    }
   ],
   "source": [
    "lst"
   ]
  },
  {
   "cell_type": "code",
   "execution_count": 18,
   "id": "53a85d5f",
   "metadata": {
    "ExecuteTime": {
     "end_time": "2022-11-24T05:16:22.153681Z",
     "start_time": "2022-11-24T05:16:22.135508Z"
    }
   },
   "outputs": [
    {
     "data": {
      "text/plain": [
       "1011"
      ]
     },
     "execution_count": 18,
     "metadata": {},
     "output_type": "execute_result"
    }
   ],
   "source": [
    "lst.pop()\n",
    "#will remove last value only"
   ]
  },
  {
   "cell_type": "code",
   "execution_count": 19,
   "id": "b199b6f2",
   "metadata": {
    "ExecuteTime": {
     "end_time": "2022-11-24T05:16:30.767877Z",
     "start_time": "2022-11-24T05:16:30.750386Z"
    }
   },
   "outputs": [
    {
     "data": {
      "text/plain": [
       "[8, 9, 1011, 45, 'hi', 'hii']"
      ]
     },
     "execution_count": 19,
     "metadata": {},
     "output_type": "execute_result"
    }
   ],
   "source": [
    "lst"
   ]
  },
  {
   "cell_type": "code",
   "execution_count": 20,
   "id": "1cf5b2cb",
   "metadata": {
    "ExecuteTime": {
     "end_time": "2022-11-24T05:16:42.171252Z",
     "start_time": "2022-11-24T05:16:42.151179Z"
    }
   },
   "outputs": [
    {
     "data": {
      "text/plain": [
       "[8, 9, 1011, 45, 'hi', 'hii']"
      ]
     },
     "execution_count": 20,
     "metadata": {},
     "output_type": "execute_result"
    }
   ],
   "source": [
    "lst"
   ]
  },
  {
   "cell_type": "code",
   "execution_count": 22,
   "id": "7d563a7c",
   "metadata": {
    "ExecuteTime": {
     "end_time": "2022-11-24T05:17:40.776713Z",
     "start_time": "2022-11-24T05:17:40.758213Z"
    }
   },
   "outputs": [],
   "source": [
    "lst.remove(1011)"
   ]
  },
  {
   "cell_type": "code",
   "execution_count": 23,
   "id": "5588659e",
   "metadata": {
    "ExecuteTime": {
     "end_time": "2022-11-24T05:17:48.490597Z",
     "start_time": "2022-11-24T05:17:48.481052Z"
    }
   },
   "outputs": [
    {
     "data": {
      "text/plain": [
       "[8, 9, 45, 'hi', 'hii']"
      ]
     },
     "execution_count": 23,
     "metadata": {},
     "output_type": "execute_result"
    }
   ],
   "source": [
    "lst"
   ]
  },
  {
   "cell_type": "code",
   "execution_count": 27,
   "id": "fa49d7fb",
   "metadata": {
    "ExecuteTime": {
     "end_time": "2022-11-24T05:19:17.228137Z",
     "start_time": "2022-11-24T05:19:17.214176Z"
    }
   },
   "outputs": [
    {
     "data": {
      "text/plain": [
       "4"
      ]
     },
     "execution_count": 27,
     "metadata": {},
     "output_type": "execute_result"
    }
   ],
   "source": [
    "lst.index('hii')"
   ]
  },
  {
   "cell_type": "code",
   "execution_count": 28,
   "id": "6b263fcb",
   "metadata": {
    "ExecuteTime": {
     "end_time": "2022-11-24T05:20:17.297904Z",
     "start_time": "2022-11-24T05:20:17.281506Z"
    }
   },
   "outputs": [
    {
     "ename": "ValueError",
     "evalue": "-1 is not in list",
     "output_type": "error",
     "traceback": [
      "\u001b[1;31m---------------------------------------------------------------------------\u001b[0m",
      "\u001b[1;31mValueError\u001b[0m                                Traceback (most recent call last)",
      "\u001b[1;32m~\\AppData\\Local\\Temp\\ipykernel_31412\\1117802851.py\u001b[0m in \u001b[0;36m<module>\u001b[1;34m\u001b[0m\n\u001b[1;32m----> 1\u001b[1;33m \u001b[0mlst\u001b[0m\u001b[1;33m.\u001b[0m\u001b[0mindex\u001b[0m\u001b[1;33m(\u001b[0m\u001b[1;33m-\u001b[0m\u001b[1;36m1\u001b[0m\u001b[1;33m)\u001b[0m\u001b[1;33m\u001b[0m\u001b[1;33m\u001b[0m\u001b[0m\n\u001b[0m",
      "\u001b[1;31mValueError\u001b[0m: -1 is not in list"
     ]
    }
   ],
   "source": [
    "lst.index(-1)"
   ]
  },
  {
   "cell_type": "code",
   "execution_count": 29,
   "id": "7a1253ab",
   "metadata": {
    "ExecuteTime": {
     "end_time": "2022-11-24T05:20:49.293898Z",
     "start_time": "2022-11-24T05:20:49.280893Z"
    }
   },
   "outputs": [
    {
     "data": {
      "text/plain": [
       "'hii'"
      ]
     },
     "execution_count": 29,
     "metadata": {},
     "output_type": "execute_result"
    }
   ],
   "source": [
    "lst[-1]\n",
    "#-1 -2 it will count from reverse like this"
   ]
  },
  {
   "cell_type": "code",
   "execution_count": 30,
   "id": "b250cb07",
   "metadata": {
    "ExecuteTime": {
     "end_time": "2022-11-24T05:24:05.827509Z",
     "start_time": "2022-11-24T05:24:05.806302Z"
    }
   },
   "outputs": [
    {
     "data": {
      "text/plain": [
       "[8, 9, 45, 'hi', 'hii']"
      ]
     },
     "execution_count": 30,
     "metadata": {},
     "output_type": "execute_result"
    }
   ],
   "source": [
    "lst"
   ]
  },
  {
   "cell_type": "code",
   "execution_count": 31,
   "id": "5d1f147d",
   "metadata": {
    "ExecuteTime": {
     "end_time": "2022-11-24T05:24:46.253938Z",
     "start_time": "2022-11-24T05:24:46.232791Z"
    }
   },
   "outputs": [
    {
     "data": {
      "text/plain": [
       "'hii'"
      ]
     },
     "execution_count": 31,
     "metadata": {},
     "output_type": "execute_result"
    }
   ],
   "source": [
    "lst.pop()"
   ]
  },
  {
   "cell_type": "code",
   "execution_count": 32,
   "id": "b0fc39bf",
   "metadata": {
    "ExecuteTime": {
     "end_time": "2022-11-24T05:24:54.788482Z",
     "start_time": "2022-11-24T05:24:54.779288Z"
    }
   },
   "outputs": [
    {
     "data": {
      "text/plain": [
       "[8, 9, 45, 'hi']"
      ]
     },
     "execution_count": 32,
     "metadata": {},
     "output_type": "execute_result"
    }
   ],
   "source": [
    "lst"
   ]
  },
  {
   "cell_type": "code",
   "execution_count": 40,
   "id": "f1773ca5",
   "metadata": {
    "ExecuteTime": {
     "end_time": "2022-11-24T05:28:55.462206Z",
     "start_time": "2022-11-24T05:28:55.444057Z"
    }
   },
   "outputs": [
    {
     "data": {
      "text/plain": [
       "[8, 9, 44, 'hi']"
      ]
     },
     "execution_count": 40,
     "metadata": {},
     "output_type": "execute_result"
    }
   ],
   "source": [
    "lst\n",
    "lst[2] = 44\n",
    "lst"
   ]
  },
  {
   "cell_type": "markdown",
   "id": "b688a05e",
   "metadata": {
    "ExecuteTime": {
     "end_time": "2022-11-24T05:25:31.559694Z",
     "start_time": "2022-11-24T05:25:31.550856Z"
    }
   },
   "source": [
    "**Tuple**"
   ]
  },
  {
   "cell_type": "code",
   "execution_count": 35,
   "id": "2c70f4fa",
   "metadata": {
    "ExecuteTime": {
     "end_time": "2022-11-24T05:25:47.882430Z",
     "start_time": "2022-11-24T05:25:47.876402Z"
    }
   },
   "outputs": [],
   "source": [
    "t  = ()"
   ]
  },
  {
   "cell_type": "code",
   "execution_count": 36,
   "id": "6183e52e",
   "metadata": {
    "ExecuteTime": {
     "end_time": "2022-11-24T05:25:55.458424Z",
     "start_time": "2022-11-24T05:25:55.441656Z"
    }
   },
   "outputs": [
    {
     "data": {
      "text/plain": [
       "tuple"
      ]
     },
     "execution_count": 36,
     "metadata": {},
     "output_type": "execute_result"
    }
   ],
   "source": [
    "type(t)"
   ]
  },
  {
   "cell_type": "code",
   "execution_count": 37,
   "id": "0b77c423",
   "metadata": {
    "ExecuteTime": {
     "end_time": "2022-11-24T05:27:11.652195Z",
     "start_time": "2022-11-24T05:27:11.642577Z"
    }
   },
   "outputs": [],
   "source": [
    "#tuple is immutable and llist is mutable meaning you can change anything in list but not in case of tuple"
   ]
  },
  {
   "cell_type": "code",
   "execution_count": 41,
   "id": "337eee42",
   "metadata": {
    "ExecuteTime": {
     "end_time": "2022-11-24T05:32:38.254228Z",
     "start_time": "2022-11-24T05:32:38.242000Z"
    }
   },
   "outputs": [],
   "source": [
    "t = (1,3,4,5,6,7,8,9)"
   ]
  },
  {
   "cell_type": "code",
   "execution_count": 42,
   "id": "df1ce933",
   "metadata": {
    "ExecuteTime": {
     "end_time": "2022-11-24T05:32:45.932886Z",
     "start_time": "2022-11-24T05:32:45.919670Z"
    }
   },
   "outputs": [
    {
     "data": {
      "text/plain": [
       "tuple"
      ]
     },
     "execution_count": 42,
     "metadata": {},
     "output_type": "execute_result"
    }
   ],
   "source": [
    "type(t)"
   ]
  },
  {
   "cell_type": "code",
   "execution_count": 44,
   "id": "1492db7a",
   "metadata": {
    "ExecuteTime": {
     "end_time": "2022-11-24T05:33:23.682969Z",
     "start_time": "2022-11-24T05:33:23.672650Z"
    }
   },
   "outputs": [
    {
     "data": {
      "text/plain": [
       "1"
      ]
     },
     "execution_count": 44,
     "metadata": {},
     "output_type": "execute_result"
    }
   ],
   "source": [
    "t.count(1)"
   ]
  },
  {
   "cell_type": "code",
   "execution_count": 45,
   "id": "d087fd37",
   "metadata": {
    "ExecuteTime": {
     "end_time": "2022-11-24T05:33:40.216884Z",
     "start_time": "2022-11-24T05:33:40.196627Z"
    }
   },
   "outputs": [
    {
     "data": {
      "text/plain": [
       "2"
      ]
     },
     "execution_count": 45,
     "metadata": {},
     "output_type": "execute_result"
    }
   ],
   "source": [
    "t.index(4)"
   ]
  },
  {
   "cell_type": "code",
   "execution_count": 46,
   "id": "7598a0a6",
   "metadata": {
    "ExecuteTime": {
     "end_time": "2022-11-24T05:34:23.843620Z",
     "start_time": "2022-11-24T05:34:23.826255Z"
    }
   },
   "outputs": [],
   "source": [
    "#to make changes in tuple conver tit in list and do."
   ]
  },
  {
   "cell_type": "code",
   "execution_count": 47,
   "id": "dd0eb944",
   "metadata": {
    "ExecuteTime": {
     "end_time": "2022-11-24T05:34:34.109535Z",
     "start_time": "2022-11-24T05:34:34.090683Z"
    }
   },
   "outputs": [],
   "source": [
    "t = list(t)"
   ]
  },
  {
   "cell_type": "code",
   "execution_count": 48,
   "id": "0fb38c5c",
   "metadata": {
    "ExecuteTime": {
     "end_time": "2022-11-24T05:34:41.079379Z",
     "start_time": "2022-11-24T05:34:41.073267Z"
    }
   },
   "outputs": [
    {
     "data": {
      "text/plain": [
       "list"
      ]
     },
     "execution_count": 48,
     "metadata": {},
     "output_type": "execute_result"
    }
   ],
   "source": [
    "type(t)"
   ]
  },
  {
   "cell_type": "markdown",
   "id": "f129b6e7",
   "metadata": {
    "ExecuteTime": {
     "end_time": "2022-11-24T05:35:03.696975Z",
     "start_time": "2022-11-24T05:35:03.689227Z"
    }
   },
   "source": [
    "**Dictionary**"
   ]
  },
  {
   "cell_type": "code",
   "execution_count": 50,
   "id": "e403a499",
   "metadata": {
    "ExecuteTime": {
     "end_time": "2022-11-24T05:42:24.741067Z",
     "start_time": "2022-11-24T05:42:24.723365Z"
    }
   },
   "outputs": [],
   "source": [
    "d = {}"
   ]
  },
  {
   "cell_type": "code",
   "execution_count": 51,
   "id": "048a622c",
   "metadata": {
    "ExecuteTime": {
     "end_time": "2022-11-24T05:43:20.358516Z",
     "start_time": "2022-11-24T05:43:20.339563Z"
    }
   },
   "outputs": [
    {
     "data": {
      "text/plain": [
       "dict"
      ]
     },
     "execution_count": 51,
     "metadata": {},
     "output_type": "execute_result"
    }
   ],
   "source": [
    "type(d)"
   ]
  },
  {
   "cell_type": "code",
   "execution_count": 52,
   "id": "d478e9a0",
   "metadata": {
    "ExecuteTime": {
     "end_time": "2022-11-24T05:43:59.410072Z",
     "start_time": "2022-11-24T05:43:59.396700Z"
    }
   },
   "outputs": [],
   "source": [
    "d = {1:'hii',2:34,3:69}"
   ]
  },
  {
   "cell_type": "code",
   "execution_count": 53,
   "id": "ca6942fc",
   "metadata": {
    "ExecuteTime": {
     "end_time": "2022-11-24T05:44:03.472074Z",
     "start_time": "2022-11-24T05:44:03.457817Z"
    }
   },
   "outputs": [
    {
     "data": {
      "text/plain": [
       "{1: 'hii', 2: 34, 3: 69}"
      ]
     },
     "execution_count": 53,
     "metadata": {},
     "output_type": "execute_result"
    }
   ],
   "source": [
    "d"
   ]
  },
  {
   "cell_type": "code",
   "execution_count": 57,
   "id": "19ac0cfc",
   "metadata": {
    "ExecuteTime": {
     "end_time": "2022-11-24T05:46:06.857540Z",
     "start_time": "2022-11-24T05:46:06.837566Z"
    }
   },
   "outputs": [],
   "source": [
    "d.update({'car':'bmw'})"
   ]
  },
  {
   "cell_type": "code",
   "execution_count": 58,
   "id": "0fb104c4",
   "metadata": {
    "ExecuteTime": {
     "end_time": "2022-11-24T05:46:13.231203Z",
     "start_time": "2022-11-24T05:46:13.224897Z"
    }
   },
   "outputs": [
    {
     "data": {
      "text/plain": [
       "{1: 'hii', 2: 34, 3: 69, 'car': 'bmw'}"
      ]
     },
     "execution_count": 58,
     "metadata": {},
     "output_type": "execute_result"
    }
   ],
   "source": [
    "d"
   ]
  },
  {
   "cell_type": "code",
   "execution_count": 59,
   "id": "66103944",
   "metadata": {
    "ExecuteTime": {
     "end_time": "2022-11-24T05:46:48.450152Z",
     "start_time": "2022-11-24T05:46:48.430382Z"
    }
   },
   "outputs": [],
   "source": [
    "d.update({5:'aks'})"
   ]
  },
  {
   "cell_type": "code",
   "execution_count": 60,
   "id": "abd0cbd6",
   "metadata": {
    "ExecuteTime": {
     "end_time": "2022-11-24T05:46:54.650991Z",
     "start_time": "2022-11-24T05:46:54.627710Z"
    }
   },
   "outputs": [
    {
     "data": {
      "text/plain": [
       "{1: 'hii', 2: 34, 3: 69, 'car': 'bmw', 5: 'aks'}"
      ]
     },
     "execution_count": 60,
     "metadata": {},
     "output_type": "execute_result"
    }
   ],
   "source": [
    "d"
   ]
  },
  {
   "cell_type": "code",
   "execution_count": 62,
   "id": "bc5cc57a",
   "metadata": {
    "ExecuteTime": {
     "end_time": "2022-11-24T05:47:23.080642Z",
     "start_time": "2022-11-24T05:47:23.069398Z"
    }
   },
   "outputs": [
    {
     "data": {
      "text/plain": [
       "34"
      ]
     },
     "execution_count": 62,
     "metadata": {},
     "output_type": "execute_result"
    }
   ],
   "source": [
    "d.pop(2)"
   ]
  },
  {
   "cell_type": "code",
   "execution_count": 63,
   "id": "1a85fe2b",
   "metadata": {
    "ExecuteTime": {
     "end_time": "2022-11-24T05:48:11.464620Z",
     "start_time": "2022-11-24T05:48:11.453770Z"
    }
   },
   "outputs": [
    {
     "data": {
      "text/plain": [
       "{1: 'hii', 3: 69, 'car': 'bmw', 5: 'aks'}"
      ]
     },
     "execution_count": 63,
     "metadata": {},
     "output_type": "execute_result"
    }
   ],
   "source": [
    "d"
   ]
  },
  {
   "cell_type": "code",
   "execution_count": 64,
   "id": "017dbf54",
   "metadata": {
    "ExecuteTime": {
     "end_time": "2022-11-24T05:48:51.401025Z",
     "start_time": "2022-11-24T05:48:51.381129Z"
    }
   },
   "outputs": [
    {
     "ename": "KeyError",
     "evalue": "69",
     "output_type": "error",
     "traceback": [
      "\u001b[1;31m---------------------------------------------------------------------------\u001b[0m",
      "\u001b[1;31mKeyError\u001b[0m                                  Traceback (most recent call last)",
      "\u001b[1;32m~\\AppData\\Local\\Temp\\ipykernel_31412\\396780548.py\u001b[0m in \u001b[0;36m<module>\u001b[1;34m\u001b[0m\n\u001b[1;32m----> 1\u001b[1;33m \u001b[0md\u001b[0m\u001b[1;33m.\u001b[0m\u001b[0mpop\u001b[0m\u001b[1;33m(\u001b[0m\u001b[1;36m69\u001b[0m\u001b[1;33m)\u001b[0m\u001b[1;33m\u001b[0m\u001b[1;33m\u001b[0m\u001b[0m\n\u001b[0m",
      "\u001b[1;31mKeyError\u001b[0m: 69"
     ]
    }
   ],
   "source": [
    "d.pop(69)"
   ]
  },
  {
   "cell_type": "code",
   "execution_count": 66,
   "id": "ee23a6c9",
   "metadata": {
    "ExecuteTime": {
     "end_time": "2022-11-24T05:51:34.531613Z",
     "start_time": "2022-11-24T05:51:34.525033Z"
    }
   },
   "outputs": [],
   "source": [
    "d.update({6:True})"
   ]
  },
  {
   "cell_type": "code",
   "execution_count": 67,
   "id": "c12e7177",
   "metadata": {
    "ExecuteTime": {
     "end_time": "2022-11-24T05:51:39.083267Z",
     "start_time": "2022-11-24T05:51:39.063238Z"
    }
   },
   "outputs": [
    {
     "data": {
      "text/plain": [
       "{1: 'hii', 3: 69, 'car': 'bmw', 5: 'aks', 6: True}"
      ]
     },
     "execution_count": 67,
     "metadata": {},
     "output_type": "execute_result"
    }
   ],
   "source": [
    "d"
   ]
  },
  {
   "cell_type": "code",
   "execution_count": 72,
   "id": "25ca210d",
   "metadata": {
    "ExecuteTime": {
     "end_time": "2022-11-24T05:54:26.715239Z",
     "start_time": "2022-11-24T05:54:26.698608Z"
    }
   },
   "outputs": [],
   "source": [
    "d[6] = 99\n",
    "#to replace element to new value"
   ]
  },
  {
   "cell_type": "code",
   "execution_count": 73,
   "id": "b42c2e5b",
   "metadata": {
    "ExecuteTime": {
     "end_time": "2022-11-24T05:54:31.963839Z",
     "start_time": "2022-11-24T05:54:31.941912Z"
    }
   },
   "outputs": [
    {
     "data": {
      "text/plain": [
       "{1: 'hii', 3: 69, 'car': 'bmw', 5: 'aks', 6: 99}"
      ]
     },
     "execution_count": 73,
     "metadata": {},
     "output_type": "execute_result"
    }
   ],
   "source": [
    "d"
   ]
  },
  {
   "cell_type": "code",
   "execution_count": 74,
   "id": "f1638266",
   "metadata": {
    "ExecuteTime": {
     "end_time": "2022-11-24T05:55:49.075651Z",
     "start_time": "2022-11-24T05:55:49.064083Z"
    }
   },
   "outputs": [],
   "source": [
    "d[6] = True"
   ]
  },
  {
   "cell_type": "code",
   "execution_count": 75,
   "id": "b0d08ab4",
   "metadata": {
    "ExecuteTime": {
     "end_time": "2022-11-24T05:55:52.629969Z",
     "start_time": "2022-11-24T05:55:52.622948Z"
    }
   },
   "outputs": [
    {
     "data": {
      "text/plain": [
       "{1: 'hii', 3: 69, 'car': 'bmw', 5: 'aks', 6: True}"
      ]
     },
     "execution_count": 75,
     "metadata": {},
     "output_type": "execute_result"
    }
   ],
   "source": [
    "d"
   ]
  },
  {
   "cell_type": "code",
   "execution_count": 76,
   "id": "e478a9a2",
   "metadata": {
    "ExecuteTime": {
     "end_time": "2022-11-24T05:56:22.516041Z",
     "start_time": "2022-11-24T05:56:22.508082Z"
    }
   },
   "outputs": [],
   "source": [
    "d[6] = False"
   ]
  },
  {
   "cell_type": "code",
   "execution_count": 77,
   "id": "83554a03",
   "metadata": {
    "ExecuteTime": {
     "end_time": "2022-11-24T05:56:26.759247Z",
     "start_time": "2022-11-24T05:56:26.743959Z"
    }
   },
   "outputs": [
    {
     "data": {
      "text/plain": [
       "{1: 'hii', 3: 69, 'car': 'bmw', 5: 'aks', 6: False}"
      ]
     },
     "execution_count": 77,
     "metadata": {},
     "output_type": "execute_result"
    }
   ],
   "source": [
    "d"
   ]
  },
  {
   "cell_type": "markdown",
   "id": "989ef246",
   "metadata": {
    "ExecuteTime": {
     "end_time": "2022-11-24T06:00:42.972763Z",
     "start_time": "2022-11-24T06:00:42.960130Z"
    }
   },
   "source": [
    "**Sets**"
   ]
  },
  {
   "cell_type": "code",
   "execution_count": 79,
   "id": "bc01bbf8",
   "metadata": {
    "ExecuteTime": {
     "end_time": "2022-11-24T06:08:42.576525Z",
     "start_time": "2022-11-24T06:08:42.558511Z"
    }
   },
   "outputs": [],
   "source": [
    "s = {}"
   ]
  },
  {
   "cell_type": "code",
   "execution_count": 80,
   "id": "7cb10633",
   "metadata": {
    "ExecuteTime": {
     "end_time": "2022-11-24T06:08:51.436937Z",
     "start_time": "2022-11-24T06:08:51.417944Z"
    }
   },
   "outputs": [
    {
     "data": {
      "text/plain": [
       "dict"
      ]
     },
     "execution_count": 80,
     "metadata": {},
     "output_type": "execute_result"
    }
   ],
   "source": [
    "type(s)"
   ]
  },
  {
   "cell_type": "code",
   "execution_count": 81,
   "id": "38532fe2",
   "metadata": {
    "ExecuteTime": {
     "end_time": "2022-11-24T06:09:07.961926Z",
     "start_time": "2022-11-24T06:09:07.953819Z"
    }
   },
   "outputs": [],
   "source": [
    "s = {1,2,3,4,5,6,7}"
   ]
  },
  {
   "cell_type": "code",
   "execution_count": 82,
   "id": "d7f88237",
   "metadata": {
    "ExecuteTime": {
     "end_time": "2022-11-24T06:09:18.800729Z",
     "start_time": "2022-11-24T06:09:18.788402Z"
    }
   },
   "outputs": [
    {
     "data": {
      "text/plain": [
       "set"
      ]
     },
     "execution_count": 82,
     "metadata": {},
     "output_type": "execute_result"
    }
   ],
   "source": [
    "type(s)"
   ]
  },
  {
   "cell_type": "code",
   "execution_count": 83,
   "id": "c385175c",
   "metadata": {
    "ExecuteTime": {
     "end_time": "2022-11-24T06:10:36.529055Z",
     "start_time": "2022-11-24T06:10:36.521378Z"
    }
   },
   "outputs": [],
   "source": [
    "a = {'apple','cherry','banana'}\n",
    "b = {'banana',1,3,5,6}"
   ]
  },
  {
   "cell_type": "code",
   "execution_count": 84,
   "id": "95160a02",
   "metadata": {
    "ExecuteTime": {
     "end_time": "2022-11-24T06:11:17.227829Z",
     "start_time": "2022-11-24T06:11:17.215445Z"
    }
   },
   "outputs": [
    {
     "data": {
      "text/plain": [
       "{1, 3, 5, 6, 'apple', 'banana', 'cherry'}"
      ]
     },
     "execution_count": 84,
     "metadata": {},
     "output_type": "execute_result"
    }
   ],
   "source": [
    "#union\n",
    "a.union(b)"
   ]
  },
  {
   "cell_type": "code",
   "execution_count": 85,
   "id": "ef309c6b",
   "metadata": {
    "ExecuteTime": {
     "end_time": "2022-11-24T06:12:21.225487Z",
     "start_time": "2022-11-24T06:12:21.217393Z"
    }
   },
   "outputs": [
    {
     "data": {
      "text/plain": [
       "{'apple', 'cherry'}"
      ]
     },
     "execution_count": 85,
     "metadata": {},
     "output_type": "execute_result"
    }
   ],
   "source": [
    "#\n",
    "a.difference(b)"
   ]
  },
  {
   "cell_type": "code",
   "execution_count": 87,
   "id": "5bcddf82",
   "metadata": {
    "ExecuteTime": {
     "end_time": "2022-11-24T06:13:24.834873Z",
     "start_time": "2022-11-24T06:13:24.816612Z"
    }
   },
   "outputs": [
    {
     "data": {
      "text/plain": [
       "{'banana'}"
      ]
     },
     "execution_count": 87,
     "metadata": {},
     "output_type": "execute_result"
    }
   ],
   "source": [
    "a.intersection(b)"
   ]
  },
  {
   "cell_type": "code",
   "execution_count": 88,
   "id": "53712fe2",
   "metadata": {
    "ExecuteTime": {
     "end_time": "2022-11-24T06:13:49.629746Z",
     "start_time": "2022-11-24T06:13:49.617300Z"
    }
   },
   "outputs": [
    {
     "data": {
      "text/plain": [
       "{1, 3, 5, 6}"
      ]
     },
     "execution_count": 88,
     "metadata": {},
     "output_type": "execute_result"
    }
   ],
   "source": [
    "b.difference(a)"
   ]
  },
  {
   "cell_type": "code",
   "execution_count": 91,
   "id": "ec50280c",
   "metadata": {
    "ExecuteTime": {
     "end_time": "2022-11-24T06:16:56.851136Z",
     "start_time": "2022-11-24T06:16:56.844522Z"
    }
   },
   "outputs": [
    {
     "data": {
      "text/plain": [
       "'apple'"
      ]
     },
     "execution_count": 91,
     "metadata": {},
     "output_type": "execute_result"
    }
   ],
   "source": [
    "a.pop()\n",
    "#in sets pop will remove randomly any element."
   ]
  },
  {
   "cell_type": "code",
   "execution_count": 90,
   "id": "c9f34cc7",
   "metadata": {
    "ExecuteTime": {
     "end_time": "2022-11-24T06:16:09.635711Z",
     "start_time": "2022-11-24T06:16:09.623428Z"
    }
   },
   "outputs": [
    {
     "data": {
      "text/plain": [
       "{'apple', 'cherry'}"
      ]
     },
     "execution_count": 90,
     "metadata": {},
     "output_type": "execute_result"
    }
   ],
   "source": [
    "a"
   ]
  },
  {
   "cell_type": "code",
   "execution_count": 92,
   "id": "d33e8d36",
   "metadata": {
    "ExecuteTime": {
     "end_time": "2022-11-24T06:19:36.852534Z",
     "start_time": "2022-11-24T06:19:36.844135Z"
    }
   },
   "outputs": [
    {
     "ename": "SyntaxError",
     "evalue": "invalid syntax (766834399.py, line 1)",
     "output_type": "error",
     "traceback": [
      "\u001b[1;36m  File \u001b[1;32m\"C:\\Users\\AKSHAY\\AppData\\Local\\Temp\\ipykernel_31412\\766834399.py\"\u001b[1;36m, line \u001b[1;32m1\u001b[0m\n\u001b[1;33m    **set**\u001b[0m\n\u001b[1;37m    ^\u001b[0m\n\u001b[1;31mSyntaxError\u001b[0m\u001b[1;31m:\u001b[0m invalid syntax\n"
     ]
    }
   ],
   "source": []
  },
  {
   "cell_type": "markdown",
   "id": "d4996d31",
   "metadata": {},
   "source": [
    "\n"
   ]
  },
  {
   "cell_type": "code",
   "execution_count": null,
   "id": "9d8365de",
   "metadata": {},
   "outputs": [],
   "source": []
  }
 ],
 "metadata": {
  "_draft": {
   "nbviewer_url": "https://gist.github.com/692adab6bb49bc34880ac262d67ca977"
  },
  "gist": {
   "data": {
    "description": "python1.ipynb",
    "public": true
   },
   "id": "692adab6bb49bc34880ac262d67ca977"
  },
  "kernelspec": {
   "display_name": "Python 3 (ipykernel)",
   "language": "python",
   "name": "python3"
  },
  "language_info": {
   "codemirror_mode": {
    "name": "ipython",
    "version": 3
   },
   "file_extension": ".py",
   "mimetype": "text/x-python",
   "name": "python",
   "nbconvert_exporter": "python",
   "pygments_lexer": "ipython3",
   "version": "3.9.13"
  }
 },
 "nbformat": 4,
 "nbformat_minor": 5
}
